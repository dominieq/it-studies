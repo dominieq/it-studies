{
 "cells": [
  {
   "cell_type": "markdown",
   "metadata": {},
   "source": [
    "# Optymalizacja Ciągła\n",
    "\n",
    "## Labolatorium 2: Optymalizacja bezgradientowa\n",
    "\n",
    "Twoim zadaniem na tych zajęciach będzie zaimplementowanie bezgradientowych metod optymalizacji ciągłej, z których większość była omawiana na wykładzie w razie potrzeby skorzystaj z materiałów wykładowych\n",
    "\n",
    "## Biblioteki:\n",
    "Najprawdopodobniej będzie potrzebne zainstalowanie biblioteki seaborn (nakładka na matplotlib). Aby to zrobić wpisz w terminalu:\n",
    "\n",
    "```bash\n",
    "pip3 install seaborn --user\n",
    "```\n"
   ]
  },
  {
   "cell_type": "code",
   "execution_count": null,
   "metadata": {
    "collapsed": true
   },
   "outputs": [],
   "source": [
    "# Linia sprawiająca, że wykresy rysowane będą w notebooku\n",
    "%matplotlib inline \n",
    "\n",
    "\n",
    "import numpy as np\n"
   ]
  },
  {
   "cell_type": "markdown",
   "metadata": {},
   "source": [
    "W tym tutorialu wykorzystany zostanie obiekt klasy Function. Obiekty te służyć będą do generowania danych oraz wizualizacji, ale z punktu widzenia tworzenia algorytmu najważniejsze jest wywołanie `f.get_value(x)` obliczające wartość funkcji."
   ]
  },
  {
   "cell_type": "code",
   "execution_count": null,
   "metadata": {},
   "outputs": [],
   "source": [
    "from helpers import linear1d\n",
    "from helpers import functions_1d\n",
    "\n",
    "print(linear1d)\n",
    "\n",
    "print(linear1d.get_value(1))\n",
    "\n",
    "linear1d.plot(start=-2, end=2, points=[0, -1, 1])\n"
   ]
  },
  {
   "cell_type": "markdown",
   "metadata": {},
   "source": [
    "## Ćwiczenie 1\n",
    "Zaimplementuj algorytm przeszukiwania dychotomicznego i algorytm złotego przedziału dla problemów 1D. Pamiętaj o zabezpieczeniu się przed sytuacjami brzegowymi. Czy algorytmy te zadziałały dobrze dla wszystkich prezentowanych funkcji? Czy wiesz czemu się stało to co się stało? Który z algorytmów działa szybciej?\n",
    "\n",
    "Rozwiązań możesz szukać w przedziale [-10,10]. W prawdziwym życiu nie mamy często komfortu ograniczonej dziedziny. Jak sobie z tym poradzić?"
   ]
  },
  {
   "cell_type": "code",
   "execution_count": null,
   "metadata": {},
   "outputs": [],
   "source": [
    "# TWÓJ KOD TUTAJ Algorytm powinien zwrócić x* - znalezione minimum\n",
    "def optimize(f):\n",
    "    pass\n",
    "    \n",
    "#Wywołanie Twojego algorytmu na różnych funkcjach    \n",
    "for f in functions_1d:\n",
    "    x = optimize(f)\n",
    "    f.plot(start=-10, end=10, points=[x])"
   ]
  }
 ],
 "metadata": {
  "kernelspec": {
   "display_name": "Python 3",
   "language": "python",
   "name": "python3"
  },
  "language_info": {
   "codemirror_mode": {
    "name": "ipython",
    "version": 3
   },
   "file_extension": ".py",
   "mimetype": "text/x-python",
   "name": "python",
   "nbconvert_exporter": "python",
   "pygments_lexer": "ipython3",
   "version": "3.7.4"
  }
 },
 "nbformat": 4,
 "nbformat_minor": 1
}
