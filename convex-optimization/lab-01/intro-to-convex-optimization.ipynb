{
 "cells": [
  {
   "cell_type": "markdown",
   "metadata": {},
   "source": [
    "# Optymalizacja ciągła\n",
    "## Labolatorium 1: Wstęp do optymalizacji ciągłej\n",
    "\n",
    "W poniższym tutorialu poznasz bibliotekę `cvxpy` służącą do optymalizacji funkcji wypukłych. Niektóre biblioteki do optymalizacji pozwalają ci podać optymalizowaną funkcję w postaci kodu do wywołania. Są to więc biblioteki do optymalizacji typu *blackbox*. Często jednak takie biblioteki pozwalają także na podanie dodatkowej informacji o funkcji jak np. kod liczący jej pochodną w danym punkcie. Z jednej strony takie biblioteki dają ci dużo wolności (dowolna implementacja funkcji), jednak przy korzystaniu z takich bibliotek nigdy nie wiesz czy twoja funkcja jest ,,dobra'' do optymalizacji (np. czy jest wypukła). Ponadto, jak już to było wcześniej wspomniane, to ty musisz zaimplementować i podać dodatkową funkcję liczącą np. pochodną.\n",
    "\n",
    "Biblioteka `cvxpy` prezentuje zgoła inne podejście. Użytkownik programuje funkcję celu korzystając ze specjalnych zmiennych i funkcji zaimplementowanych w tej bibliotece. Po skonstruowaniu funkcji celu jest ona poddawana automatycznej analizie teoretycznej. W szczególności sprawdza się czy funkcja celu jest funkcją wypukłą - jeśli nie spełnia ona tego założenia to biblioteka odmawia optymalizacji. Ma to oczywiście swoje plusy: optymalizując masz pewność że funkcja jest wypukła, a pochodne i inne potrzebne rzeczy liczą się całkowicie automatycznie. Ma to też swoje minusy: musisz przekazać funkcję celu tak by było jasne że jest ona wypukła i używać przy jej definiowaniu operacji zaimplementowanych w bibliotece.\n",
    "\n",
    "Jak już pisaliśmy każda funkcja celu (jak i ograniczenia) są poddawane analizie teoretycznej. Gdy analiza zaimplementowana w bibliotece kończy się wynikiem ,,funkcja jest wypukła'' możesz mieć pewność że tak jest. Jednak w przeciwnym wypadku, funkcja mogła być wypukła, ale biblioteka nie była tego w stanie udowodnić. Z tego powodu biblioteka implementuje różne, dość zaawansowane funkcje matematyczne o znanych teoretycznych własnościach. Powinieneś raczej wykorzystywać funkcje jak najbardziej zaawansowane, żeby uprościć pracę mechanizmowi dowodzenia. [Lista wbudowanych funkcji biblioteki cvxpy](https://www.cvxpy.org/tutorial/functions/index.html#scalar-functions)\n",
    "\n",
    "W niniejszym tutorialu będziemy się zajmować stosunkowo prostymi funkcjami. Pomijamy także opis algorytmu stojącego za wyżej wspomnianą analizą teoretyczną, choć zrozumienie jego działania jest przydatne. Niestety, do zrozumienia tej procedury potrzebnych jest sporo definicji związanych z wypukłością funkcji, których jeszcze nie znamy (są one w programie następnych labolatoriów)."
   ]
  },
  {
   "cell_type": "markdown",
   "metadata": {
    "collapsed": true
   },
   "source": [
    "## Optymalizacja 1D - tutorial\n",
    "Nasz tutorial biblioteki `cvxpy` rozpoczniemy od rozważenia następującego problemu optymalizacyjnego.\n",
    "\n",
    "Dana jest lista liczb `numbers` zawierająca liczby rzeczywiste. Znajdź taką liczbę `x`, która jest środkiem ciężkości tych liczb tj. suma kwadratów różnic tych liczb z `x` jest jak najmniejsza.\n",
    "\n",
    "**Zadanie**: Co możesz powiedzieć o tym problemie optymalizacyjnym? Czy jest to problem z ograniczeniami czy bez ograniczeń? Jak oceniłbyś trudność tak postawionego problemu?\n",
    "\n",
    "Rozpocznijmy od zaimportowania bibliotek i stworzenia listy liczb."
   ]
  },
  {
   "cell_type": "code",
   "execution_count": 1,
   "metadata": {},
   "outputs": [],
   "source": [
    "from cvxpy import *\n",
    "import numpy as np\n",
    "\n",
    "numbers = np.random.randn(100, 1)"
   ]
  },
  {
   "cell_type": "markdown",
   "metadata": {
    "collapsed": true
   },
   "source": [
    "Następnie zadeklarujemy naszą zmienną `x`. Zmienna ta będzie zmienną w rozumieniu biblioteki `cvxpy`"
   ]
  },
  {
   "cell_type": "code",
   "execution_count": 2,
   "metadata": {},
   "outputs": [
    {
     "name": "stdout",
     "output_type": "stream",
     "text": [
      "var0\n"
     ]
    }
   ],
   "source": [
    "x = Variable()\n",
    "print (x)"
   ]
  },
  {
   "cell_type": "markdown",
   "metadata": {},
   "source": [
    "Zwróć uwagę, że jest to zmienna, która nie ma przypisanej żadnej konkretnej wartości. Po wypisaniu jej na ekran dostajemy po prostu informacje o numerze zmiennej nadanej jej przez bibliotekę. Jest to swoistego rodzaju miejsce na wartość zmiennej (placeholder), która pojawi się tam podczas procesu optymalizacyjnego. Nie jest to więc żadna konkretna wartość, a raczej reprezentacja jej przyszłej wartości. \n",
    "\n",
    "*Uwaga: W szczególności zmienna x NIE jest zmienną tekstową zawierającą tekst `var1` lub podobny*\n",
    "\n",
    "Ponadto, wszystkie wyrażenia np. `x+1` reprezentują koncept dodania 1 do *jakiejś* wartości zmiennej `x`. "
   ]
  },
  {
   "cell_type": "code",
   "execution_count": 3,
   "metadata": {},
   "outputs": [
    {
     "name": "stdout",
     "output_type": "stream",
     "text": [
      "var0 + 1.0\n"
     ]
    }
   ],
   "source": [
    "print(x+1)"
   ]
  },
  {
   "cell_type": "markdown",
   "metadata": {},
   "source": [
    "Zwróć uwagę, że to co zrobiło dodanie 1 to jedynie utworzenie pewnego wyrażenia, które nie zostało obliczone z żadnymi konkretnymi wartościami. Dzieje się tak, aby biblioteka w czasie optymalizacji mogła dowolnie wpisywać sobie pod `x` różne wartości i ewaluować całe wyrażenia dot. tej zmiennej.\n",
    "\n",
    "Wartość aktualnie przypisaną do zmiennej przez procedurę optymalizacyjną możemy sprawdzić poprzez odczytanie właściwości `value` naszej zmiennej."
   ]
  },
  {
   "cell_type": "code",
   "execution_count": 4,
   "metadata": {},
   "outputs": [
    {
     "name": "stdout",
     "output_type": "stream",
     "text": [
      "None\n",
      "None\n"
     ]
    }
   ],
   "source": [
    "print ( x.value )\n",
    "print ( (x+1).value )"
   ]
  },
  {
   "cell_type": "markdown",
   "metadata": {},
   "source": [
    "Na razie żadna procedura optymalizacyjna nie została uruchomiona, więc wartości naszej zmiennej i wyrażenia są równe `None`. Zwróć uwagę, że biblioteka `cvxpy` przeciążyła operator dodawania, tak by tworzył on odpowiednie wyrażenie (zamiast np. dodawać obiekty). Podobnie, pozostałe operatory jak `-`, `*` czy `/` zostały zakryte przez bibliotekę, abyś mógł swobodnie tworzyć wyrażenia. \n",
    "\n",
    "Stwórzmy wyrażenie implementujące naszą funkcję celu czyli sumę kwadratów różnic pomiędz liczbami w `numbers` a `x`.\n",
    "$$\\sum_{n \\in \\text{numbers}} (x-n)^2$$"
   ]
  },
  {
   "cell_type": "code",
   "execution_count": 5,
   "metadata": {},
   "outputs": [
    {
     "name": "stdout",
     "output_type": "stream",
     "text": [
      "0.0 + power(var0 + -[-0.62837681], 2) + power(var0 + -[-0.26478511], 2) + power(var0 + -[0.31839059], 2) + power(var0 + -[-1.03480991], 2) + power(var0 + -[-0.21134595], 2) + power(var0 + -[0.74136142], 2) + power(var0 + -[-0.52532852], 2) + power(var0 + -[-1.59176097], 2) + power(var0 + -[0.37829297], 2) + power(var0 + -[0.27870464], 2) + power(var0 + -[0.72239708], 2) + power(var0 + -[1.10901624], 2) + power(var0 + -[-0.61581748], 2) + power(var0 + -[1.4203508], 2) + power(var0 + -[-0.58639612], 2) + power(var0 + -[0.15773298], 2) + power(var0 + -[1.50516919], 2) + power(var0 + -[0.48116141], 2) + power(var0 + -[-0.62922447], 2) + power(var0 + -[1.12254282], 2) + power(var0 + -[1.34596168], 2) + power(var0 + -[1.40634404], 2) + power(var0 + -[0.48124793], 2) + power(var0 + -[0.24181813], 2) + power(var0 + -[0.46673623], 2) + power(var0 + -[-0.4150936], 2) + power(var0 + -[0.56114448], 2) + power(var0 + -[-0.63048086], 2) + power(var0 + -[0.60758083], 2) + power(var0 + -[1.25919231], 2) + power(var0 + -[-0.5723558], 2) + power(var0 + -[1.59380672], 2) + power(var0 + -[1.76403198], 2) + power(var0 + -[-0.34984168], 2) + power(var0 + -[1.25850017], 2) + power(var0 + -[0.95808362], 2) + power(var0 + -[0.87067633], 2) + power(var0 + -[0.37120702], 2) + power(var0 + -[2.29297351], 2) + power(var0 + -[-0.33134582], 2) + power(var0 + -[1.98865322], 2) + power(var0 + -[1.38785814], 2) + power(var0 + -[1.41978613], 2) + power(var0 + -[0.0789965], 2) + power(var0 + -[-1.0913932], 2) + power(var0 + -[-1.63144461], 2) + power(var0 + -[-0.95627585], 2) + power(var0 + -[0.12156575], 2) + power(var0 + -[0.74512961], 2) + power(var0 + -[0.10540152], 2) + power(var0 + -[1.1248756], 2) + power(var0 + -[-0.46499166], 2) + power(var0 + -[-1.32949859], 2) + power(var0 + -[0.80096247], 2) + power(var0 + -[1.2082728], 2) + power(var0 + -[-0.52096339], 2) + power(var0 + -[-1.08170916], 2) + power(var0 + -[0.18100868], 2) + power(var0 + -[0.29923548], 2) + power(var0 + -[0.09461282], 2) + power(var0 + -[0.47230926], 2) + power(var0 + -[2.17251538], 2) + power(var0 + -[-0.03852632], 2) + power(var0 + -[0.25547762], 2) + power(var0 + -[1.07146871], 2) + power(var0 + -[0.97770708], 2) + power(var0 + -[0.01574029], 2) + power(var0 + -[-1.03198031], 2) + power(var0 + -[-1.01619372], 2) + power(var0 + -[-0.45130397], 2) + power(var0 + -[0.6962409], 2) + power(var0 + -[0.33965654], 2) + power(var0 + -[0.6474457], 2) + power(var0 + -[-1.07753768], 2) + power(var0 + -[-0.22131752], 2) + power(var0 + -[-0.00334551], 2) + power(var0 + -[-0.34661935], 2) + power(var0 + -[-0.7011709], 2) + power(var0 + -[-0.06782518], 2) + power(var0 + -[0.07356401], 2) + power(var0 + -[-1.24138927], 2) + power(var0 + -[-0.95948315], 2) + power(var0 + -[-1.08106844], 2) + power(var0 + -[1.08620348], 2) + power(var0 + -[-1.28189715], 2) + power(var0 + -[-0.88554572], 2) + power(var0 + -[-0.3807112], 2) + power(var0 + -[-2.040257], 2) + power(var0 + -[0.68421867], 2) + power(var0 + -[-1.97289641], 2) + power(var0 + -[-0.37225668], 2) + power(var0 + -[0.8835077], 2) + power(var0 + -[-0.29341338], 2) + power(var0 + -[0.43506132], 2) + power(var0 + -[1.34556161], 2) + power(var0 + -[0.43042859], 2) + power(var0 + -[-0.16409245], 2) + power(var0 + -[0.41405899], 2) + power(var0 + -[-1.03259606], 2) + power(var0 + -[-0.27529167], 2)\n"
     ]
    }
   ],
   "source": [
    "suma = 0\n",
    "for i in numbers:\n",
    "    suma += (x - i)**2\n",
    "print( suma )"
   ]
  },
  {
   "cell_type": "markdown",
   "metadata": {},
   "source": [
    "Mając zdefiniowane wyrażenie funkcji celu przystąpmy do jej ostatecznej konstrukcji poprzez wywołanie konstruktora `Minimize` lub `Maximize` - wskazując kierunek optymalizacji."
   ]
  },
  {
   "cell_type": "code",
   "execution_count": 6,
   "metadata": {},
   "outputs": [],
   "source": [
    "objective = Minimize(suma)"
   ]
  },
  {
   "cell_type": "markdown",
   "metadata": {},
   "source": [
    "Pozostaje zdefiniować nasz problem optymalizacyjny. Ponieważ nie mamy żadnych ograniczeń, konstrukcja problemu wygląda trywialnie:"
   ]
  },
  {
   "cell_type": "code",
   "execution_count": 7,
   "metadata": {},
   "outputs": [],
   "source": [
    "prob = Problem(objective)"
   ]
  },
  {
   "cell_type": "markdown",
   "metadata": {},
   "source": [
    "Czas na trochę magii!\n",
    "\n",
    "*Na tym przedmiocie będziemy zwykle skupiać się na tworzeniu algorytmów optymalizacyjnych (czyli solwerów) i nie będziemy raczej korzystać z gotowych bibliotek do optymalizacji. Czyli będziemy tłumaczyć jak działa magia ;)*"
   ]
  },
  {
   "cell_type": "code",
   "execution_count": 8,
   "metadata": {},
   "outputs": [
    {
     "data": {
      "text/plain": [
       "87.1565450493129"
      ]
     },
     "execution_count": 8,
     "metadata": {},
     "output_type": "execute_result"
    }
   ],
   "source": [
    "prob.solve()"
   ]
  },
  {
   "cell_type": "markdown",
   "metadata": {},
   "source": [
    "Wyświetlona została wartość funkcji celu. Sprawdźmy ile wynosi teraz nasz `x`."
   ]
  },
  {
   "cell_type": "code",
   "execution_count": 9,
   "metadata": {},
   "outputs": [
    {
     "data": {
      "text/plain": [
       "array(0.12871991)"
      ]
     },
     "execution_count": 9,
     "metadata": {},
     "output_type": "execute_result"
    }
   ],
   "source": [
    "x.value"
   ]
  },
  {
   "cell_type": "markdown",
   "metadata": {},
   "source": [
    "Chcielibyśmy sprawdzić czy wynik optymalizacji jest prawidłowy. Czy używając Twojej wiedzy z innych przedmiotów jesteś w stanie wskazać ile powinien wynieść wynik optymalny?"
   ]
  },
  {
   "cell_type": "code",
   "execution_count": 10,
   "metadata": {},
   "outputs": [
    {
     "data": {
      "text/plain": [
       "0.12871991071016337"
      ]
     },
     "execution_count": 10,
     "metadata": {},
     "output_type": "execute_result"
    }
   ],
   "source": [
    "np.mean(numbers)"
   ]
  },
  {
   "cell_type": "markdown",
   "metadata": {},
   "source": [
    "## Ćwiczenie 1\n",
    "Znajdź maksimum funkcji $$ - (x - 5 )^2 + 10$$"
   ]
  },
  {
   "cell_type": "code",
   "execution_count": 18,
   "metadata": {},
   "outputs": [
    {
     "name": "stdout",
     "output_type": "stream",
     "text": [
      "10.0   5.0\n"
     ]
    }
   ],
   "source": [
    "func = -(x - 5)**2 + 10\n",
    "objective1 = Maximize(func)\n",
    "prob1 = Problem(objective1)\n",
    "print( prob1.solve(), \" \", x.value )"
   ]
  },
  {
   "cell_type": "markdown",
   "metadata": {},
   "source": [
    "## Ćwiczenie 2\n",
    "Zbuduj podobny problem optymalizacyjny do tutorialowego, jednak tym razem zamiast sumy kwadratów różnic, użyj sumy wartości bezwzględnych. Przydatna może być [Lista wbudowanych funkcji biblioteki cvxpy](https://www.cvxpy.org/tutorial/functions/index.html#scalar-functions)\n",
    "\n",
    "$$ minimize\\qquad \\sum_{i=0}^{n} | numbers_i - x |$$"
   ]
  },
  {
   "cell_type": "code",
   "execution_count": 21,
   "metadata": {},
   "outputs": [
    {
     "name": "stdout",
     "output_type": "stream",
     "text": [
      "76.69214652049169   0.12744545602208138\n"
     ]
    }
   ],
   "source": [
    "suma2 = 0\n",
    "for i in numbers:\n",
    "    suma2 += abs(i - x)\n",
    "objective2 = Minimize(suma2)\n",
    "prob2 = Problem(objective2)\n",
    "print( prob2.solve(), \" \", x.value )"
   ]
  },
  {
   "cell_type": "markdown",
   "metadata": {},
   "source": [
    "## Ćwiczenie 3 - SLR\n",
    "Zaimplementuj model regresji liniowej minimalizujący błąd kwadratowy\n",
    "$$ minimize\\qquad \\sum_{i=0}^{n}  (y_i - (ax_i + b ) )^2$$\n",
    "*Uwaga: Zwróć uwagę, że `x` i `y` są dane w zbiorze danych. Proces optymalizacji musi dotyczyć `a` i `b`.*\n",
    "Podpowiedź: suma kwadratów jest funkcją o dużym znaczeniu ;) Przydatna może być [Lista wbudowanych funkcji biblioteki cvxpy](https://www.cvxpy.org/tutorial/functions/index.html#scalar-functions)"
   ]
  },
  {
   "cell_type": "code",
   "execution_count": null,
   "metadata": {},
   "outputs": [],
   "source": [
    "#Załadowanie danych i narysowanie ich\n",
    "import matplotlib.pyplot as plt\n",
    "%matplotlib inline\n",
    "from helpers import plot_reg\n",
    "\n",
    "dane = np.load('reg-data.npz')\n",
    "x = dane['x']\n",
    "y = dane['y']\n",
    "plot_reg(dane)"
   ]
  },
  {
   "cell_type": "code",
   "execution_count": null,
   "metadata": {},
   "outputs": [],
   "source": [
    "# YOUR CODE HERE\n"
   ]
  },
  {
   "cell_type": "markdown",
   "metadata": {},
   "source": [
    "Aby narysować linię regresji wpisz odpowiednie wartości uzyskane z problemu optymalizacyjnego do zmiennych `a` i `b`, tak aby pasowały one do poniższego wzoru:\n",
    "$$\\hat{y} = ax +b$$"
   ]
  },
  {
   "cell_type": "code",
   "execution_count": null,
   "metadata": {},
   "outputs": [],
   "source": [
    "#Narysuj linię regresji\n",
    "plot_reg(dane, a= XXX , b= XXX ) # YOUR CODE HERE"
   ]
  },
  {
   "cell_type": "markdown",
   "metadata": {},
   "source": [
    "## Ćwiczenie 4 - przewidywanie giełdy\n",
    "Dość ciekawym zastosowaniem metod regresji jest przewidywanie kursów giełdowych. W tym zadaniu spróbujemy stworzyć prosty model regresji służący przewidywaniu kursu akcji."
   ]
  },
  {
   "cell_type": "code",
   "execution_count": null,
   "metadata": {},
   "outputs": [],
   "source": [
    "from helpers import plot_kursy\n",
    "kurs = np.load('stock-data.npy')\n",
    "plot_kursy(kurs)"
   ]
  },
  {
   "cell_type": "markdown",
   "metadata": {},
   "source": [
    "Jak pewnie zauważyłeś mamy tylko jedną zmiennę $x$! Nie możemy więc wytrenować standardowego modelu pomiędzy $x$ a $y$. Zamiat tego spróbujemy przewidywać wartość następnego kursu na podstawie jego wartości w dwóch poprzednich dniach. Nasz model regresji będzie więc wyglądał w następujący sposób:\n",
    "$$\\hat{x}_i = a*x_{i-1} + b * x_{i-2} + c$$\n",
    "Czyli przewidujemy `x`'a $i$-tego dnia na podstawie funkcji liniowej `x`-ów z dwóch ostatnich dni. Kurs z poprzedniego dnia ważymy stałą $a$, a kurs sprzed dwóch dni ważymy stałą $b$. Dodatkowo dodajemy pewien stały term $c$. Oczywiście cała sztuka to znalezienie tych stałych.\n",
    "\n",
    "Zaimplementuj odpowiedni problem optymalizacyjny, minimalizujący sumę błędów kwadratowych dla podanego modelu.\n",
    "\n",
    "*Podpowiedź: tutaj prawdopodobniej najprościej będzie zaimplementować funkcje celu zwykłym for'em. Pamiętaj, że dla 2 pierwszych kursów nie możesz dokonać predykcji.*"
   ]
  },
  {
   "cell_type": "code",
   "execution_count": null,
   "metadata": {},
   "outputs": [],
   "source": []
  },
  {
   "cell_type": "markdown",
   "metadata": {},
   "source": [
    "Narysuj linię regresji przy użyciu funkcji pomocniczej `plot_kursy`. Przypisz wartości uzyskane z problemu optymalizacyjnego do odpowiednich argumentów $a$, $b$ i $c$ (tak aby pasowały one do wzoru z treści zadania)."
   ]
  },
  {
   "cell_type": "code",
   "execution_count": null,
   "metadata": {},
   "outputs": [],
   "source": [
    "plot_kursy(kurs, a = XXX, b = XXX, c = XXX) # YOUR CODE HERE"
   ]
  },
  {
   "cell_type": "markdown",
   "metadata": {},
   "source": [
    "Wykres powyżej (powinien :) wyglądać zachęcająco. Ale to przecież nic wielkiego: narysowaliśmy linię na naszych danych jakimś dziwnym wzorem. Co jednak gdybyśmy zoptymalizowali (nauczyli) nasz model na początkowych obserwacjach bez kilkudziesięciu ostatnich i przetestowali naszą regresję na danych których nigdy nie widziała?\n",
    "\n",
    "Zmodyfikuj swój wcześniejszy kod tak, by problem był optymalizowany bez brania pod uwagę ostatnich 50 notowań kursu."
   ]
  },
  {
   "cell_type": "code",
   "execution_count": null,
   "metadata": {},
   "outputs": [],
   "source": []
  },
  {
   "cell_type": "markdown",
   "metadata": {},
   "source": [
    "Analogicznie narysuj wykres na danych których wcześniej regresja nie widziała."
   ]
  },
  {
   "cell_type": "code",
   "execution_count": null,
   "metadata": {},
   "outputs": [],
   "source": [
    "plot_kursy(kurs[-50:], a = XXX, b = XXX, c = XXX) # YOUR CODE HERE"
   ]
  },
  {
   "cell_type": "markdown",
   "metadata": {},
   "source": [
    "Całkiem nieźle to działa! "
   ]
  },
  {
   "cell_type": "markdown",
   "metadata": {},
   "source": [
    "## Optymalizacja z ograniczeniami\n",
    "\n",
    "Jeśli już opanowałeś korzystanie z biblioteki `cvxpy` to rozwiązywanie problemów z ograniczeniami nie nastręczy ci żadnych problemów. Wystarczy do definicji problemu podać listę wyrażeń będącymi ograniczeniami.\n",
    "\n",
    "Przykładowo znajdźmy $x>0$ dla którego  $e^{(x-2)^2}$ jest najmniejsze"
   ]
  },
  {
   "cell_type": "code",
   "execution_count": 24,
   "metadata": {},
   "outputs": [
    {
     "data": {
      "text/plain": [
       "0.9999999984917081"
      ]
     },
     "execution_count": 24,
     "metadata": {},
     "output_type": "execute_result"
    }
   ],
   "source": [
    "x = Variable()\n",
    "objective = Minimize(exp((x-2)**2))\n",
    "prob = Problem(objective, [x>=0])\n",
    "prob.solve()"
   ]
  },
  {
   "cell_type": "markdown",
   "metadata": {},
   "source": [
    "Gotowe!\n",
    "\n",
    "To dobry moment, aby zastanowić się co stanie się z procesem optymalizacji, gdy podamy np. ograniczenia wzajemnie się wykluczające. Po rozwiązaniu każdego problemu optymalizacyjnego w bibliotece `cvxpy` możemy sprawdzić status rozwiązania poprzez odczytanie własności `status`."
   ]
  },
  {
   "cell_type": "code",
   "execution_count": 25,
   "metadata": {},
   "outputs": [
    {
     "data": {
      "text/plain": [
       "'optimal'"
      ]
     },
     "execution_count": 25,
     "metadata": {},
     "output_type": "execute_result"
    }
   ],
   "source": [
    "prob.status"
   ]
  },
  {
   "cell_type": "markdown",
   "metadata": {},
   "source": [
    "W tym przypadku znaleziono optimum, ale możliwe są inne statusy. Spróbuj zoptymalizować problem:\n",
    "$$minimize \\qquad x$$\n",
    "przy ograniczeniach\n",
    "$$ x \\leq 0$$\n",
    "$$ x \\geq 1$$\n",
    "oraz sprawdź status rozwiązania."
   ]
  },
  {
   "cell_type": "code",
   "execution_count": 28,
   "metadata": {},
   "outputs": [
    {
     "data": {
      "text/plain": [
       "'infeasible'"
      ]
     },
     "execution_count": 28,
     "metadata": {},
     "output_type": "execute_result"
    }
   ],
   "source": [
    "x = Variable()\n",
    "objective = Minimize(exp((x-2)**2))\n",
    "prob = Problem(objective, [x>=1, x <= 0])\n",
    "prob.solve()\n",
    "prob.status"
   ]
  },
  {
   "cell_type": "markdown",
   "metadata": {},
   "source": [
    "Analogicznie spróbujmy rozwiązać problem który nie jest ograniczony.\n",
    "$$minimize \\qquad x$$\n",
    "Ponieważ jest to funkcja liniowa to jej wartość minimalna jest w zasadzie równa minus nieskończoność.\n"
   ]
  },
  {
   "cell_type": "code",
   "execution_count": 31,
   "metadata": {},
   "outputs": [
    {
     "data": {
      "text/plain": [
       "'optimal'"
      ]
     },
     "execution_count": 31,
     "metadata": {},
     "output_type": "execute_result"
    }
   ],
   "source": [
    "x = Variable()\n",
    "objective = Minimize(exp((x-2)**2))\n",
    "prob = Problem(objective, [ ])\n",
    "prob.solve()\n",
    "prob.status"
   ]
  },
  {
   "cell_type": "markdown",
   "metadata": {},
   "source": [
    "Nauczyłeś się więc 3 najważniejszych statusów rozwiązania `OPTIMAL`, `INFEASIBLE` oraz `UNBOUNDED`. Istnieją także odpowiednik z suffixem `INACCURATE` które pojawiają się gdy solwer nie zdołał uzyskać żądanej jakości rozwiązania."
   ]
  },
  {
   "cell_type": "markdown",
   "metadata": {},
   "source": [
    "## Ćwiczenie 5 - relaksacja\n",
    "Rzucono monetą 5 razy uzyskując następujące wyniki: Orzeł, Reszka, Orzeł, Orzeł, Orzeł. Aby znaleźć estymator prawdopodobieństwa wylosowania orła należy zmaksymalizować funkcję\n",
    "$$p * (1-p) * p * p * p$$\n",
    "pamiętaj, że prawdopodobieństwo musi być większe od 0 i mniejsze od 1."
   ]
  },
  {
   "cell_type": "code",
   "execution_count": null,
   "metadata": {},
   "outputs": [],
   "source": []
  },
  {
   "cell_type": "markdown",
   "metadata": {},
   "source": [
    "Tak, niestety problem powyżej **nie może być rozwiązany** przez naszą bibliotekę. Dlaczego? Bo problem powyższy nie jest problemem optymalizacji wypukłej! Tak jak pisaliśmy na początku tego tutoriala, jeżeli co do funkcji nie można udowodnić że jest wypukła to biblioteka odmawia jej optymalizacji.\n",
    "\n",
    "W rzeczywistości nawet gdyby funkcja ta była funkcją wklęsłą (mowa przecież o maksymalizacji) to biblioteka nie byłaby w stanie przeprowadzić odpowiedniego dowodu. Aby przeprowadzenie dowodu było możliwe nie można używać operatora `*` w inny sposób niż `stała*stała` lub `stała*wyrażenie ze zmienną`. (Nie jest możliwe mnożenie przez siebie dwóch wyrażeń ze zmiennymi - to automatycznie powoduje brak dowodu, choć funkcja nadal mogła by być wypukła. Przykład? `x*x`).\n",
    "\n",
    "W jaki sposób możemy przetransformować powyższy problem, aby stał on się problemem optymalizacji wypukłej?"
   ]
  },
  {
   "cell_type": "code",
   "execution_count": null,
   "metadata": {},
   "outputs": [],
   "source": [
    "num = np.arrange(0,1)\n",
    "func = 4 * log(x) * log(1-x)"
   ]
  },
  {
   "cell_type": "markdown",
   "metadata": {},
   "source": [
    "## Ćwiczenie 6"
   ]
  },
  {
   "cell_type": "markdown",
   "metadata": {},
   "source": [
    "Jednym z niezwykle ważnych zastosowań optymalizacji ciągłej jest uczenie maszynowe, a z kolei jednym z głównych problemów w uczeniu maszynowym jest klasyfikacja. "
   ]
  },
  {
   "cell_type": "code",
   "execution_count": null,
   "metadata": {},
   "outputs": [],
   "source": [
    "from helpers import plot_classification\n",
    "dane = np.load('svm2.npz')\n",
    "x = dane['x']\n",
    "y = dane['y']\n",
    "labels = dane['label']\n",
    "plot_classification(x,y,labels)"
   ]
  },
  {
   "cell_type": "markdown",
   "metadata": {},
   "source": [
    "Mamy dane pochodzące z dwóch *klas* czyli inaczej z dwóch różnych grup. Nasze zadanie polega na znalezieniu *klasyfikatora* czyli reguły pozwalającej na przypisanie wszystkich obiektów do jednej z klas (szczególnie tych, których nie widzimy w zbiorze danych). Rozważmy tutaj dość prosty klasyfikator (regułę) który będzie przypisywał obiekt do jednej z klas gdy będzie się on znajdował po prawej stronie pewnej separującej linii prostej. Jeśli zaś obiekt będzie po lewej jej stronie to przypiszemy obiekt do drugiej z klas. Znajdź taką linię dla powyższych danych, gdzie `x` i `y` to współrzędne punktów, a `labels` przyjmuje wartości 1 i -1 wskazując na klasę obserwacji."
   ]
  },
  {
   "cell_type": "code",
   "execution_count": null,
   "metadata": {},
   "outputs": [],
   "source": []
  },
  {
   "cell_type": "code",
   "execution_count": null,
   "metadata": {},
   "outputs": [],
   "source": [
    "plot_classification(x,y,labels, a = XXX, b= XXX, c= XXX) #YOUR CODE HERE"
   ]
  },
  {
   "cell_type": "markdown",
   "metadata": {},
   "source": [
    "Być może nie robi to wrażenia, ale zwróć uwagę, że możesz bardzo prosto rozszerzyć ten problem optymalizacyjny do szukania separującej ,,linii'' (hiperpłaszczyzny) w przestrzeni 3D, 4D, ..."
   ]
  },
  {
   "cell_type": "markdown",
   "metadata": {},
   "source": [
    "### Ćwiczenie 6 cd. (nieobowiązkowe)"
   ]
  },
  {
   "cell_type": "markdown",
   "metadata": {},
   "source": [
    "W poprzednim ćwiczeniu znaleźliśmy linię separującą dwie klasy, jednak linia ta znajduje się bardzo blisko jednej z klas. Czy możemy jakoś przemienić ten problem, aby zachować pewien margines bezpieczeństwa? "
   ]
  },
  {
   "cell_type": "code",
   "execution_count": null,
   "metadata": {},
   "outputs": [],
   "source": []
  },
  {
   "cell_type": "code",
   "execution_count": null,
   "metadata": {},
   "outputs": [],
   "source": [
    "plot_classification(x,y,labels, a = XXX, b= XXX, c= XXX) #YOUR CODE HERE"
   ]
  },
  {
   "cell_type": "markdown",
   "metadata": {},
   "source": [
    "## Odzyskiwanie utraconych pikseli w obrazach\n",
    "\n",
    "Przeanaizujmy ciekawy przykład wykorzystania optymalizacji ciągłej do rekonstrukcji obrazów. Czasami w skutek np. błędów transmisji lub uszkodzeń oryginalnego nośnika obraz który mamy część pikseli danego obrazka zostaje utracona. W poniższych zadaniach będziemy zakładać że mamy daną macierz $ \\mathcal K$ która zawiera $1$ jeśli odpowiadający piksel w obrazku jest nam znany (nie uległ uszkodzeniu) oraz $0$ gdy wartość piksela nie jest znana (uszkodzenie). \n",
    "\n",
    "Oczywiście taka macierz daje nam dodatkową wiedzę (wiemy, które piksele trzeba naprawić) jednak nie jest to aż tak nierealistyczne założenie jakby się mogło wydawać. W przypadku uszkodzonego zdjęcia często możemy samodzielnie oznaczyć uszkodzone miejsca, a w przypadku transmisji takie piksele będą miały wykle skrajne wartości np. (0,0,0) czy (255, 255, 255).\n",
    "\n",
    "**Problem:** W jaki sposób można skonstruować problem optymalizacyjny rozwiązujący ten problem?\n",
    "\n",
    "Przypomnijmy, obrazek kolorowy jest reprezentowany jako macierz $m \\times n \\times 3$ wartości RGB (czerwony, zielony, niebieski) które zwykle są z przedziału od $0$ do $255$. W ćwiczeniu będziemy mieli obrazek oryginalny, który następnie losowo uszkodzimy wymazując niektóre z pikseli. Aby uczynić ćwiczenie bardziej zbliżonym do rzeczywistości, gdy losowo uszkodzimy piksel uczynimi to od razu na wszystkich kolorach (nie ma sytuacji że np. znamy wartość R, ale nie B czy G). Dodatkowo, ćwiczenie będzie operowało na małych obrazkach, aby czas wkonania algorytmu był stosunkowo krotki. Metoda działa także dla większych obrazów, jeśli masz dużo czasu i mocy obliczeniowej ;)\n",
    "\n",
    "Na szczęście w bibliotece cvxpy jest zaimplementowana gotowa funkcja mierzaca całkowią wariancję w obrazku - funkcja `tv(R, G, B)`. Przeanalizuj kod przykładu.\n",
    "\n",
    "Na początku wczytajmy obrazek i stwórzmy jego uszkodzoną wersję."
   ]
  },
  {
   "cell_type": "code",
   "execution_count": null,
   "metadata": {},
   "outputs": [],
   "source": [
    "from PIL import Image\n",
    "import numpy as np\n",
    "\n",
    "# Prawdopodobieństwo uszkodzenia piksela\n",
    "PROB_PIXEL_LOST = 0.05\n",
    "\n",
    "np.random.seed(1)\n",
    "# Załaduj obrazek\n",
    "orig_img = Image.open(\"lena.tiff\")\n",
    "\n",
    "# Konwersja do macierzy o liczbie wierszy rows, liczbie kolumn cols i liczbie kolorów colors\n",
    "Xorig = np.array(orig_img)\n",
    "rows, cols, colors = Xorig.shape\n",
    "\n",
    "# Stworzenie macierzy K wskazującą które piksele są znane\n",
    "# Wszystkie są uszkodzone (0) , potem losowo wskazujemy że nie są (1)\n",
    "K = np.zeros((rows, cols, colors))\n",
    "for i in range(rows):\n",
    "    for j in range(cols):\n",
    "        if np.random.random() > PROB_PIXEL_LOST:\n",
    "            for k in range(colors):\n",
    "                K[i, j, k] = 1\n",
    "\n",
    "# Stwórz obrazek \"corrupted\" z uszkodzeniami (mnożenie przez 0 wymazuje wartość, a przez 1 ją zachowuje)                \n",
    "Xcorr = K*Xorig     "
   ]
  },
  {
   "cell_type": "markdown",
   "metadata": {},
   "source": [
    "Zobaczmy jak wyglądają te obrazki"
   ]
  },
  {
   "cell_type": "code",
   "execution_count": null,
   "metadata": {
    "scrolled": true
   },
   "outputs": [],
   "source": [
    "import matplotlib.pyplot as plt\n",
    "%matplotlib inline\n",
    "corr_img = Image.fromarray(np.uint8(Xcorr))\n",
    "fig, ax = plt.subplots(1, 2,figsize=(10, 5))\n",
    "ax[0].imshow(orig_img)\n",
    "ax[0].set_title(\"Original Image\")\n",
    "ax[0].axis('off')\n",
    "ax[1].imshow(corr_img)\n",
    "ax[1].set_title(\"Corrupted Image\")\n",
    "ax[1].axis('off')\n",
    "plt.show()"
   ]
  },
  {
   "cell_type": "markdown",
   "metadata": {},
   "source": [
    "Spróbujmy naprawić obrazek poprzez sformułowanie problemu optymalizacyjnego."
   ]
  },
  {
   "cell_type": "code",
   "execution_count": null,
   "metadata": {},
   "outputs": [],
   "source": [
    "#Najpierw preprocessing: potrzebujemy ułożyć zarówno nasz obrazek Xcorr jak i macierz K (macierze 3D) \n",
    "#w \"macierze matematyczne\" (czyli 2D)\n",
    "known = np.hstack([np.reshape(K[:,:,i], (rows*cols,1)) for i in range(colors)])\n",
    "known = known.astype(bool)\n",
    "\n",
    "RGB = np.hstack([np.reshape(Xcorr[:,:,i], (rows*cols,1)) for i in range(colors)])\n",
    "\n",
    "from cvxpy import *\n",
    "#Zdefiniujmy 3 macierze zmiennych, które będziemy optymalizować, po jednej dla każdego koloru\n",
    "R, G, B = Variable(cols,rows), Variable(cols,rows), Variable( cols,rows)\n",
    "# Analogicznie połączmy te zmienne w jedną macierz 2D\n",
    "X = hstack(vec(R), vec(G), vec(B))\n",
    "\n",
    "#Zdefiniujmy problem optymalizacyjny. Jakie będą ograniczenia?\n",
    "prob = Problem(Minimize(tv(R,G,B)),\n",
    "              [ # YOUR CODE HERE\n",
    "              ])\n",
    "#Solve!\n",
    "prob.solve(solver=SCS, verbose=True)"
   ]
  },
  {
   "cell_type": "markdown",
   "metadata": {},
   "source": [
    "Mam nadzieję że udało ci się zaoptymalizować problem. Jeśli tak to zobaczmy rozwiązanie."
   ]
  },
  {
   "cell_type": "code",
   "execution_count": null,
   "metadata": {},
   "outputs": [],
   "source": [
    "from helpers import show_reconstructed_image\n",
    "show_reconstructed_image(R, G, B)"
   ]
  },
  {
   "cell_type": "markdown",
   "metadata": {},
   "source": [
    "**Zadania** \n",
    "- Sprobuj z kilkoma innymi wartościami prawdopodobieństw. \n",
    "- Jak będzie wyglądał obrazek gdy żaden piksel nie jest znany? Zastanów się i sprawdź.\n",
    "- Poniższy kod tworzy obrazek który ma pionowy niebieski pasek po prawej stronie i czerwony pasek po lewej stronie. Reszta nie jest znana. Jak będzie wyglądał zrekonstruowany obrazek?"
   ]
  },
  {
   "cell_type": "code",
   "execution_count": null,
   "metadata": {},
   "outputs": [],
   "source": [
    "# Wymiary obrazka\n",
    "n = 25 \n",
    "rows, cols, colors = (n, n, 3)\n",
    "\n",
    "# Obrazek z paskami\n",
    "Xcorr = np.zeros((rows, cols, colors))\n",
    "Xcorr[:, 0, 0] = 255\n",
    "Xcorr[:, n-1, 2] = 255\n",
    "\n",
    "RGB = np.hstack([np.reshape(Xcorr[:,:,i], (n*n,1)) for i in range(colors)])\n",
    "\n",
    "import matplotlib.pyplot as plt\n",
    "rays_img = Image.fromarray(np.uint8(Xcorr))\n",
    "plt.imshow(rays_img)\n",
    "plt.show()"
   ]
  },
  {
   "cell_type": "markdown",
   "metadata": {},
   "source": [
    "Uzupełnij samodzielnie macierz znanych pikseli K"
   ]
  },
  {
   "cell_type": "code",
   "execution_count": null,
   "metadata": {},
   "outputs": [],
   "source": [
    "# Macierz znanych \n",
    "K = np.zeros((rows, cols, colors))\n",
    "# YOUR CODE HERE\n",
    "\n",
    "\n",
    "# Przeskalowanie macierzy K do macierzy 2D\n",
    "known = np.hstack([np.reshape(K[:,:,i], (n*n,1)) for i in range(colors)])\n",
    "known = known.astype(bool)"
   ]
  },
  {
   "cell_type": "markdown",
   "metadata": {},
   "source": [
    "Rozwiąż problem optymalizacyjny"
   ]
  },
  {
   "cell_type": "code",
   "execution_count": null,
   "metadata": {},
   "outputs": [],
   "source": [
    "from cvxpy import *\n",
    "R, G, B = Variable(cols,rows), Variable(cols,rows), Variable( cols,rows)\n",
    "X = hstack(vec(R), vec(G), vec(B))\n",
    "\n",
    "prob = Problem(Minimize(tv(R,G,B)),\n",
    "              [ X[known] == RGB[known],\n",
    "               0 <= X, X <= 255 ])\n",
    "prob.solve(solver=SCS, verbose=True)"
   ]
  },
  {
   "cell_type": "code",
   "execution_count": null,
   "metadata": {},
   "outputs": [],
   "source": [
    "show_reconstructed_image(R, G, B)"
   ]
  },
  {
   "cell_type": "markdown",
   "metadata": {},
   "source": [
    "## Zadanie: Skuteczne zwalczanie przeciwników optymalizacji\n",
    "Grupa studentów bardzo chciała chodzić na Optymalizację ciągłą, ale ... nie udało się! Ze złości dokonali przerażającego aktu wandalizmu i zbeszcześcili obrazek towarzyszący dzisiejszym laboratoriom"
   ]
  },
  {
   "cell_type": "code",
   "execution_count": null,
   "metadata": {},
   "outputs": [],
   "source": [
    "orig_img = Image.open(\"optymalizacja.tiff\")\n",
    "plt.imshow(orig_img)\n",
    "plt.show()"
   ]
  },
  {
   "cell_type": "markdown",
   "metadata": {},
   "source": [
    "Czy uratujesz Optymalizację Ciągłą i odzyskasz nasz obrazek? Skorzystaj z fragmentów kodu, których używaliśmy wcześniej."
   ]
  },
  {
   "cell_type": "code",
   "execution_count": null,
   "metadata": {},
   "outputs": [],
   "source": []
  }
 ],
 "metadata": {
  "kernelspec": {
   "display_name": "Python 3",
   "language": "python",
   "name": "python3"
  },
  "language_info": {
   "codemirror_mode": {
    "name": "ipython",
    "version": 3
   },
   "file_extension": ".py",
   "mimetype": "text/x-python",
   "name": "python",
   "nbconvert_exporter": "python",
   "pygments_lexer": "ipython3",
   "version": "3.7.4"
  }
 },
 "nbformat": 4,
 "nbformat_minor": 1
}
