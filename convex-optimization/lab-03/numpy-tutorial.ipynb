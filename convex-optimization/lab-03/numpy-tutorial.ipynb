{
 "cells": [
  {
   "cell_type": "markdown",
   "metadata": {},
   "source": [
    "# Optymalizacja ciągła\n",
    "## Laboratorium 3: Numpy - powtórka\n",
    "\n",
    "\n",
    "Większość operacji wykonywanych w optymalizacji/machine learningu można zapisać jako operacje macierzowe. Pozwala to przyspieszyć obliczenia oraz przenieść je na karty graficzne. Dodatkowo, pozwala to programistom pisać kod w bardzo niewydajnych językach wysokiego poziomu, gdzyż operacje macierzowe implementowane są przez biblioteki napisane w C/C++. Naszym ulubionym przykładem jest oczywiście kochany i uwielbiany Python. Nie byłoby tak jednak gdybyśmy musieli wykonywać wszystkie operacje za pomocą list i wbudowanych pętli. Właśnie dlatego warto nauczyć się używać biblioteki Numpy!\n",
    "\n",
    "Większość zadań umieszczonych w tym tutorialu nie wymaga użycia pętli i zachęca do nauczenia pisania się one-linerów. W pythonie większość rzeczy można załatwić złożeniem kilku metod np. sort, max, min, slicingiem, map, filter itd. Dodatkowo warto sobie przyswoić pewną myśl - nie wymyślajmy koła od nowa - szczególnie w pythonie. Jeśli jakaś funkcjonalność wydaje się nam oczywista, prawie na pewno ktoś już to naklepał i wystarczy zaimportować odpowiedni pakiet. \n",
    "Do wykonania tego tutoriala przydatna może być dokumentacja numpy: [https://docs.scipy.org/doc/]()\n",
    "\n",
    "Zajęcia te mogą wymagać instalacji dodatkowych pakietów:\n",
    "\n",
    "```\n",
    "pip3 install scikit-image numpy matplotlib seaborn tqdm --upgrade --user\n",
    "```\n",
    "Dla bardziej zainteresowanych, którzy jeszcze nie zauważyli: '--upgrade' updatejtuje package do najnowszej wersji nawet jeśli jest zainstalowany, a '--user' sprawia, że pakiety instalowane są u użytkownika lokalnie co eliminuje potrzebę uprawnień roota.\n",
    "\n",
    "Do czego służą installowane pakiety:\n",
    "\n",
    "* scikit-image - wyświetlanie i ładowanie zdjęć\n",
    "* numpy (numeric python) - nakładka na tablice w c optymalizująca operacje macierzowe\n",
    "* matplotlib - rysowanie wykresów\n",
    "* seaborn - nakładka na matplotliba, żeby żyło się lepiej\n",
    "* tqdm - pasek postępu (działa także, w notebookach)\n",
    "\n",
    "\n",
    "Dla zainteresowany: Powstała także biblioteka [CuPy](https://github.com/cupy/cupy), która implementuje w podobny sposób co NumPy operacje macierzowe w Cudzie (na GPU)\n"
   ]
  },
  {
   "cell_type": "code",
   "execution_count": null,
   "metadata": {
    "collapsed": true
   },
   "outputs": [],
   "source": [
    "import numpy as np\n",
    "from matplotlib import pyplot as plt\n",
    "from skimage import io\n",
    "\n",
    "plt.style.use(\"ggplot\") # tak żeby wykresy były ładniejsze\n",
    "%matplotlib inline\n"
   ]
  },
  {
   "cell_type": "markdown",
   "metadata": {},
   "source": [
    "## Inicjalizacja\n",
    "Numpy pozwala nam stworzyć tensory (tensor to takie uogólnienie macierzy na dowolną ilość wymiarów) o dowolnych kształtach. Numpy pozwala też zainicjalizować macierze najpopularniejszymi sposobami - jedynki, zera, losowo (są rózne rozkłady), diagonalnie (jakieś pomysły czemu macierz diagonalna tworzona jest metodą **eye** ?). Numpy pozwala nam także na tworzenie macierzy wszystkich standardowych typów - aby to zrobić należy podać parametr **dtype** (data type). Domyślnie, typ danych to np.float64, zazwyczaj jednak zależy nam na przeprowadzaniu obliczeń na kartach graficznych, które póki co nie obsługują raczej 64 bitowych floatów, dlatego przy powazniejszych obliczeniach korzysta się raczej z **np.float32**. Dla algorytmów dokładnych, spadek dokładności (i fakt, że karty graficzne przekręcają bity co chwila) mógłby mieć poważne konsekwencje. Naszczęśćie w machine learningu wszystko opiera się na prawdopodobieństwach, przybliżeniach, a tak naprawdę wszystko jest jedną wielką heurystyką - nie musimy się więc martwić aż taką dokładnością.\n",
    "\n",
    "Obiekty zwracane przez poniższe metody są tak naprawdę wrapperami na zwykłę tablice w C z całym zakresem dodatkowych funkcjonalności, pamiętać jednak należy, że w praktyce zachowują się tak samo (poza faktem, żę pewne optymalizacje zrobione są już za nas). W pythonie obiekty te widoczne są jako **ndarray** co rozwija się do **n-dimensional array**. \n"
   ]
  },
  {
   "cell_type": "code",
   "execution_count": null,
   "metadata": {
    "collapsed": true
   },
   "outputs": [],
   "source": [
    "m_filled_with_zeros = np.zeros((2, 2), dtype=np.float32)\n",
    "m_filled_with_ones = np.ones((2, 2), dtype=np.int32)\n",
    "m_random = np.random.random((2, 2, 2))\n",
    "m_diagonal = np.eye(3)\n",
    "rng = np.arange(1, 10)\n"
   ]
  },
  {
   "cell_type": "markdown",
   "metadata": {},
   "source": [
    "## Podstawowe operacje\n",
    "Numpy implementuje wiele wysokopoziomowych operacji na macierzach za nas:\n",
    "* mnożenie przez skalar\n",
    "* dodawanie, mnożenie i inne operacje 'elementwise'  \n",
    "* mnożenie macierzy i wektorów\n",
    "* transpozycja\n",
    "* wiele innych!\n",
    "\n",
    "Należy jednak pamiętać, że metody te, zwykle nie będą działały na pythonowych listach! Naszczęście nie jest to wielkim problemem, gdyż możemy bardzo łatwo rzutować taką listę na np.ndarray poprzez motedoę **np.array**."
   ]
  },
  {
   "cell_type": "code",
   "execution_count": null,
   "metadata": {
    "collapsed": true
   },
   "outputs": [],
   "source": [
    "the_array =[1, 2, 3, 4, 5, 6 ]\n",
    "# TODO your code here\n",
    "raise NotImplementedError()\n",
    "\n",
    "\n",
    "# This won't work on a list, you need to cast it to ndarray!\n",
    "print(2 * the_array)\n",
    "print(the_array + the_array)\n",
    "print(the_array**2)\n",
    "print(the_array.T)\n"
   ]
  },
  {
   "cell_type": "markdown",
   "metadata": {},
   "source": [
    "## Slicing\n",
    "Ndarrays pozwalają na indeksowanie dowolnych kawałków (slice'ów). Pozwala to na wycinanie dowolnych kolumn/wierszy lub zastępowanie dowolnych elementów.\n",
    "\n",
    "## Reshape\n",
    "Ndarray przechowuje kształt taplicy w postaci pola **shape**. W każdym momencie można zmienić kształt tablicy poprzez metodę reshape. Co ciekawe, operacja ta ma złożoność O(1) gdyż zmieniane są tylko metadane (chyba, że wykonamy twadrą kopię ...).\n",
    "\n",
    "## Algebra liniowa\n",
    "Większość (wszystkie?) algorytmy algebry liniowej, które nie są aż tak trywialne wylądowały w pakiecie np.linagl (jak linear albegra). Użyce tego podpakietu pozwala odwaracać macierze, znajdować eigenvectory, robić rozkład svd i inne rzeczy, których przecież sami nie będziemy pisać - chcemy stać na ramionach gigantów, a nie wymyślać koło od nowa!"
   ]
  },
  {
   "cell_type": "code",
   "execution_count": null,
   "metadata": {
    "collapsed": true
   },
   "outputs": [],
   "source": [
    "m = np.random.random((5,5))\n",
    "\n",
    "print(m)\n",
    "print(\"Komórka 1,1:\", m[1,1])\n",
    "print(\"Pierwszy rząd:\", m[0])\n",
    "print(\"Pierwsza kolumna:\", m[:,0])\n",
    "print(\"Wybrane kolumny w wybranej kolejności:\", m[:, [3,1,2]])\n"
   ]
  },
  {
   "cell_type": "markdown",
   "metadata": {},
   "source": [
    "### Zadanie 0 \n",
    "Powtórka (lub nauka?) podstawowych trywialnych operacji!\n"
   ]
  },
  {
   "cell_type": "markdown",
   "metadata": {},
   "source": [
    "Stwórz wektor zawierający co trzeci element od 1 do 30 (czyli 1, 4, 7 ...)"
   ]
  },
  {
   "cell_type": "code",
   "execution_count": null,
   "metadata": {
    "collapsed": true
   },
   "outputs": [],
   "source": [
    "vec = \n",
    "# TODO your code here\n",
    "raise NotImplementedError()\n",
    "print(vec)"
   ]
  },
  {
   "cell_type": "markdown",
   "metadata": {},
   "source": [
    "Stwórz macierz, która ma na przekątnej same piątki (zera gdzie indziej)."
   ]
  },
  {
   "cell_type": "code",
   "execution_count": null,
   "metadata": {
    "collapsed": true
   },
   "outputs": [],
   "source": [
    "mat =\n",
    "# TODO your code here\n",
    "raise NotImplementedError()\n",
    "print(mat)"
   ]
  },
  {
   "cell_type": "markdown",
   "metadata": {},
   "source": [
    "Stwórz macierz 5x5, w której występuje krzyż (środkowa kolumna i środkowy wiersz to jedynki - reszta to zera)"
   ]
  },
  {
   "cell_type": "code",
   "execution_count": null,
   "metadata": {
    "collapsed": true
   },
   "outputs": [],
   "source": [
    "m = \n",
    "# TODO your code here\n",
    "raise NotImplementedError()\n",
    "print(m)"
   ]
  },
  {
   "cell_type": "markdown",
   "metadata": {},
   "source": [
    "Policz iloczyn skalarny 2 wektorów. Zrób to dwoma sposobami (żaden nie wymaga pętli)."
   ]
  },
  {
   "cell_type": "code",
   "execution_count": null,
   "metadata": {
    "collapsed": true
   },
   "outputs": [],
   "source": [
    "a = \n",
    "b = \n",
    "# TODO your code here\n",
    "raise NotImplementedError()"
   ]
  },
  {
   "cell_type": "markdown",
   "metadata": {},
   "source": [
    "Odwróć macierz (większą niż 2x2) i sprawdź czy faktycznie wszystko pasuje (czy macierz faktycznie jest odwrotna do danej). Co z dokłądnością numeryczną?"
   ]
  },
  {
   "cell_type": "code",
   "execution_count": null,
   "metadata": {
    "collapsed": true
   },
   "outputs": [],
   "source": [
    "a = \n",
    "# TODO your code here\n",
    "raise NotImplementedError()"
   ]
  },
  {
   "cell_type": "markdown",
   "metadata": {},
   "source": [
    "Stwórz losową macierz (od 0 do 1) i wyzeruj wszystkie elementy mniejsze niż 0.5."
   ]
  },
  {
   "cell_type": "code",
   "execution_count": null,
   "metadata": {
    "collapsed": true
   },
   "outputs": [],
   "source": [
    "a = \n",
    "a_zeroed = \n",
    "# TODO your code here\n",
    "raise NotImplementedError()\n",
    "\n",
    "print(a)\n",
    "print(a_zeroed)"
   ]
  },
  {
   "cell_type": "markdown",
   "metadata": {},
   "source": [
    "### Zadanie 1\n",
    "Doge był wesołym pieskiem ujętym na kwadratowym zdjęciu z 4 kanałami (rgba). Niestety wandale spłaszczyli doge'a i pozamieniali mu kolory (pozamieniali kolejność kanałów - np rgba -> rbga ). Spraw żeby doge był znowu szczęśliwym pieskiem!"
   ]
  },
  {
   "cell_type": "code",
   "execution_count": null,
   "metadata": {
    "collapsed": true
   },
   "outputs": [],
   "source": [
    "sad_doge = io.imread(\"sad_doge.jpg\")\n",
    "\n",
    "# TODO your code here\n",
    "raise NotImplementedError()\n",
    "happy_doge = \n",
    "plt.imshow(happy_doge)\n",
    "plt.axis('off')\n"
   ]
  },
  {
   "cell_type": "markdown",
   "metadata": {},
   "source": [
    "### Zadanie 2\n",
    "\n",
    "Zaimplementuj mnożenie macierzy 'na pałoszczaka' (przy użyciu pętli) oraz dowiedz się jak się mnoży macierze w numpy! Następnie sprawdź ile zajmuje przemnożenie dwóch macierzy (np (100x100) twoją metodą oraz przy pomocy numpy. Upewnij się, że wyniki podawane przez obydwie metody są takie same!"
   ]
  },
  {
   "cell_type": "code",
   "execution_count": null,
   "metadata": {
    "collapsed": true
   },
   "outputs": [],
   "source": [
    "def matmul_naive(mat1, mat2):\n",
    "    # TODO your code here\n",
    "    raise NotImplementedError()\n",
    "        return mat3\n",
    "def matmul_numpy(mat1, mat2):\n",
    "    # TODO your code here\n",
    "    raise NotImplementedError()\n",
    "\n",
    "A = np.random.random((5,3))\n",
    "B = np.random.random((3,4))\n",
    "\n",
    "res_naive = matmul_naive(A,B)\n",
    "res_numpy = matmul_numpy(A,B)\n",
    "\n",
    "print(\"wynik nasz:\")\n",
    "print(res_naive)\n",
    "print(\"wynik numpy:\")\n",
    "print(res_numpy)\n",
    "print(\"różnica w wynikach:\")\n",
    "print(abs(res_numpy-res_naive))"
   ]
  },
  {
   "cell_type": "markdown",
   "metadata": {},
   "source": [
    "Pomiar czasu"
   ]
  },
  {
   "cell_type": "code",
   "execution_count": null,
   "metadata": {
    "collapsed": true
   },
   "outputs": [],
   "source": [
    "import time\n",
    "from tqdm import trange\n",
    "\n",
    "d = 50\n",
    "iters = 100\n",
    "a = np.random.random((d, d))\n",
    "b = np.random.random((d, d))\n",
    "\n",
    "start = time.time()\n",
    "for _ in trange(iters):\n",
    "    matmul_numpy(a, b)\n",
    "end = time.time()\n",
    "time_numpy = (end-start)/iters\n",
    "\n",
    "start = time.time()\n",
    "for _ in trange(iters):\n",
    "    matmul_naive(a, b)\n",
    "end = time.time()\n",
    "time_naive=(end-start)/iters\n",
    "\n",
    "print(\"Czas numpy: {}\".format(time_numpy))\n",
    "print(\"Czas naive: {}\".format(time_naive))\n",
    "print(\"ratio: {:0.2f}\".format(time_naive/time_numpy))\n"
   ]
  }
 ],
 "metadata": {
  "kernelspec": {
   "display_name": "Python 3",
   "language": "python",
   "name": "python3"
  },
  "language_info": {
   "codemirror_mode": {
    "name": "ipython",
    "version": 3
   },
   "file_extension": ".py",
   "mimetype": "text/x-python",
   "name": "python",
   "nbconvert_exporter": "python",
   "pygments_lexer": "ipython3",
   "version": "3.7.4"
  }
 },
 "nbformat": 4,
 "nbformat_minor": 1
}
