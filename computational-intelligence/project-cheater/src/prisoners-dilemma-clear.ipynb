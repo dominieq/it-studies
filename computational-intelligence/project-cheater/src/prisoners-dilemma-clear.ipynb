{
 "cells": [
  {
   "cell_type": "code",
   "execution_count": null,
   "metadata": {
    "collapsed": true
   },
   "outputs": [],
   "source": [
    "import numpy as np"
   ]
  },
  {
   "cell_type": "code",
   "execution_count": null,
   "metadata": {
    "collapsed": true
   },
   "outputs": [],
   "source": [
    "class Player():\n",
    "    def __init__(self):\n",
    "        # 0 = betray\n",
    "        # 1 = stay silent\n",
    "        self.last_action = None\n",
    "        self.last_opponent_action = None\n",
    "        self.last_reward = None\n",
    "        self.score = 0 \n",
    "        \n",
    "    def doNextAction(self):\n",
    "        pass\n",
    "    \n",
    "    def applyReward(self, opponent_action, reward):\n",
    "        self.last_opponent_action = opponent_action\n",
    "        self.last_reward = reward\n",
    "        self.score = self.score + reward"
   ]
  },
  {
   "cell_type": "code",
   "execution_count": null,
   "metadata": {
    "collapsed": true
   },
   "outputs": [],
   "source": [
    "class RandomPlayer(Player):       \n",
    "    def doNextAction(self, iteration, iterations):\n",
    "        self.last_action = np.random.randint(0,2)\n",
    "        return self.last_action"
   ]
  },
  {
   "cell_type": "code",
   "execution_count": null,
   "metadata": {
    "collapsed": true
   },
   "outputs": [],
   "source": [
    "class BetrayingPlayer(Player):\n",
    "    def doNextAction(self, iteration, iterations):\n",
    "        self.last_action = 0\n",
    "        return self.last_action"
   ]
  },
  {
   "cell_type": "code",
   "execution_count": null,
   "metadata": {
    "collapsed": true
   },
   "outputs": [],
   "source": [
    "class SilentButRevengefulPlayer(Player):\n",
    "    def doNextAction(self, iteration, iterations):\n",
    "        if self.last_opponent_action == 0:\n",
    "            self.last_action = 0\n",
    "        else: \n",
    "            self.last_action = 1\n",
    "        return self.last_action"
   ]
  },
  {
   "cell_type": "code",
   "execution_count": null,
   "metadata": {
    "collapsed": true
   },
   "outputs": [],
   "source": [
    "class YourPlayer_A(Player):\n",
    "    def doNextAction(self, iteration, iterations):\n",
    "        # TODO"
   ]
  },
  {
   "cell_type": "code",
   "execution_count": null,
   "metadata": {
    "collapsed": true
   },
   "outputs": [],
   "source": [
    "class YourPlayer_B(Player):\n",
    "    def doNextAction(self, iteration, iterations):\n",
    "        # TODO "
   ]
  },
  {
   "cell_type": "code",
   "execution_count": null,
   "metadata": {
    "collapsed": true
   },
   "outputs": [],
   "source": [
    "class Game():\n",
    "    def __init__(self, player1, player2, payoff_matrix):\n",
    "        self.player1 = player1\n",
    "        self.player2 = player2\n",
    "        self.player1_score = 0\n",
    "        self.player2_score = 0\n",
    "        self.payoff_matrix = payoff_matrix\n",
    "        self.player1_action = None\n",
    "        self.player2_action = None\n",
    "    \n",
    "    def doOneGame(self, iteration, iterations):\n",
    "        self.player1_action = self.player1.doNextAction(iteration, iterations)\n",
    "        self.player2_action = self.player2.doNextAction(iteration, iterations)\n",
    "        \n",
    "        reward_player_1 = self.payoff_matrix[self.player1_action, self.player2_action, 0]\n",
    "        reward_player_2 = self.payoff_matrix[self.player1_action, self.player2_action, 1]\n",
    "        \n",
    "        self.player1_score = self.player1_score + reward_player_1\n",
    "        self.player2_score = self.player2_score + reward_player_2\n",
    "        \n",
    "        self.player1.applyReward(self.player2_action,reward_player_1)\n",
    "        self.player2.applyReward(self.player1_action,reward_player_2)\n",
    "        \n",
    "    def PrintResult(self, iteration, iterations):\n",
    "        print(\"Turn \" + str(iteration) + \" of \" + str(iterations))\n",
    "        print(\"\\tPlayer 1 action:\\t\", self.player1_action, \"\\tPlayer 2 action:\\t\", self.player2_action)\n",
    "        print(\"\\tPlayer 1 score:  \\t\", self.player1_score, \"\\tPlayer 2 score:  \\t\", self.player2_score)"
   ]
  },
  {
   "cell_type": "code",
   "execution_count": null,
   "metadata": {
    "collapsed": true
   },
   "outputs": [],
   "source": [
    "def init_payoff_matrix():\n",
    "    payoff_matrix = np.zeros((2, 2, 2)).astype(int)\n",
    "    \n",
    "    ### both stay silent\n",
    "    payoff_matrix[1, 1, 0] = 1\n",
    "    payoff_matrix[1, 1, 1] = 1\n",
    "\n",
    "    ### both betray\n",
    "    payoff_matrix[0, 0, 0] = 3\n",
    "    payoff_matrix[0, 0, 1] = 3\n",
    "\n",
    "    # P1 - betrays; P2 - stays silent\n",
    "    payoff_matrix[0, 1, 0] = 0\n",
    "    payoff_matrix[0, 1, 1] = 5\n",
    "    \n",
    "    # P1 - stays silent; P2 - betrays\n",
    "    payoff_matrix[1, 0, 0] = 5\n",
    "    payoff_matrix[1, 0, 1] = 0\n",
    "\n",
    "    \n",
    "    return payoff_matrix"
   ]
  },
  {
   "cell_type": "code",
   "execution_count": null,
   "metadata": {},
   "outputs": [],
   "source": [
    "def random_vs_betraying():\n",
    "    player1 = RandomPlayer()\n",
    "    player2 = BetrayingPlayer()\n",
    "    payoff_matrix = init_payoff_matrix()\n",
    "    game = Game(player1, player2, payoff_matrix)\n",
    "    \n",
    "    for i in range(10):\n",
    "        game.doOneGame(i + 1, 10)\n",
    "        game.PrintResult(i + 1, 10)\n",
    "random_vs_betraying()"
   ]
  },
  {
   "cell_type": "code",
   "execution_count": null,
   "metadata": {},
   "outputs": [],
   "source": [
    "def your_vs_betraying():\n",
    "    player1 = YourPlayer_A()\n",
    "    player2 = BetrayingPlayer()\n",
    "    payoff_matrix = init_payoff_matrix()\n",
    "    game = Game(player1, player2, payoff_matrix)\n",
    "    \n",
    "    for i in range(10):\n",
    "        game.doOneGame(i + 1, 10)\n",
    "        game.PrintResult(i + 1, 10)\n",
    "        \n",
    "your_vs_betraying()"
   ]
  },
  {
   "cell_type": "code",
   "execution_count": null,
   "metadata": {},
   "outputs": [],
   "source": [
    "def your_vs_revengeful():\n",
    "    player1 = YourPlayer_B()\n",
    "    player2 = SilentButRevengefulPlayer()\n",
    "    payoff_matrix = init_payoff_matrix()\n",
    "    game = Game(player1, player2, payoff_matrix)\n",
    "    \n",
    "    for i in range(10):\n",
    "        game.doOneGame(i + 1, 10)\n",
    "        game.PrintResult(i + 1, 10)\n",
    "        \n",
    "your_vs_revengeful()"
   ]
  },
  {
   "cell_type": "code",
   "execution_count": null,
   "metadata": {
    "collapsed": true
   },
   "outputs": [],
   "source": []
  },
  {
   "cell_type": "code",
   "execution_count": null,
   "metadata": {
    "collapsed": true
   },
   "outputs": [],
   "source": []
  }
 ],
 "metadata": {
  "kernelspec": {
   "display_name": "Python 3",
   "language": "python",
   "name": "python3"
  },
  "language_info": {
   "codemirror_mode": {
    "name": "ipython",
    "version": 3
   },
   "file_extension": ".py",
   "mimetype": "text/x-python",
   "name": "python",
   "nbconvert_exporter": "python",
   "pygments_lexer": "ipython3",
   "version": "3.5.0"
  },
  "widgets": {
   "state": {},
   "version": "1.1.2"
  }
 },
 "nbformat": 4,
 "nbformat_minor": 2
}
