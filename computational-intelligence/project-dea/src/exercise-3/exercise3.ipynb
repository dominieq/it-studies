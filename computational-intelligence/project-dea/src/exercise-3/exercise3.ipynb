{
 "cells": [
  {
   "cell_type": "markdown",
   "metadata": {},
   "source": [
    "# Zbiór Nauka\n",
    "## inf132326, inf132328\n",
    "Given is a set of 18 countries for which we need to evaluate their scientific wealth. They are evaluated using 2 inputs and 2 outputs descibled below.\n",
    "\n",
    "Inputs:\n",
    "- i1: GDP (in 109 dollars);\n",
    "- i2: active population (in millions);\n",
    "- i3: R&D expenditure (in 106 dollars); \n",
    "\n",
    "Outputs:\n",
    "- o1: number of publications in the SCI (1993);\n",
    "- o2: number of patents granted by the European Patent OfficeS(1993);"
   ]
  },
  {
   "cell_type": "markdown",
   "metadata": {},
   "source": [
    "### Ładowanie biblioteki:\n",
    "Wczytujemy bibliotekę lpSolveAPI"
   ]
  },
  {
   "cell_type": "code",
   "execution_count": 1,
   "metadata": {},
   "outputs": [],
   "source": [
    "library(lpSolveAPI)"
   ]
  },
  {
   "cell_type": "markdown",
   "metadata": {},
   "source": [
    "### Tabela wejść:\n",
    "Pobieramy dane wejściowe i wpisujemy do tabeli *inputs*:"
   ]
  },
  {
   "cell_type": "code",
   "execution_count": 2,
   "metadata": {},
   "outputs": [
    {
     "data": {
      "text/html": [
       "<table>\n",
       "<caption>A data.frame: 18 × 3</caption>\n",
       "<thead>\n",
       "\t<tr><th></th><th scope=col>i1</th><th scope=col>i2</th><th scope=col>i3</th></tr>\n",
       "\t<tr><th></th><th scope=col>&lt;int&gt;</th><th scope=col>&lt;int&gt;</th><th scope=col>&lt;int&gt;</th></tr>\n",
       "</thead>\n",
       "<tbody>\n",
       "\t<tr><th scope=row>Austria</th><td> 184</td><td>  3880</td><td>  1975</td></tr>\n",
       "\t<tr><th scope=row>Belgium</th><td> 219</td><td>  4237</td><td>  3189</td></tr>\n",
       "\t<tr><th scope=row>Denmark</th><td> 142</td><td>  2903</td><td>  2206</td></tr>\n",
       "\t<tr><th scope=row>Finland</th><td> 109</td><td>  2502</td><td>  2271</td></tr>\n",
       "\t<tr><th scope=row>France</th><td>1324</td><td> 25385</td><td> 28907</td></tr>\n",
       "\t<tr><th scope=row>Germany</th><td>1939</td><td> 39628</td><td> 38609</td></tr>\n",
       "\t<tr><th scope=row>Ireland</th><td>  50</td><td>  1375</td><td>   299</td></tr>\n",
       "\t<tr><th scope=row>Italy</th><td>1224</td><td> 23210</td><td> 14190</td></tr>\n",
       "\t<tr><th scope=row>Netherlands</th><td> 320</td><td>  7011</td><td>  5581</td></tr>\n",
       "\t<tr><th scope=row>Norway</th><td> 113</td><td>  2151</td><td>  1951</td></tr>\n",
       "\t<tr><th scope=row>Spain</th><td> 475</td><td> 15701</td><td>  4108</td></tr>\n",
       "\t<tr><th scope=row>Sweden</th><td> 245</td><td>  4266</td><td>  6927</td></tr>\n",
       "\t<tr><th scope=row>Switzerland</th><td> 243</td><td>  3914</td><td>  7015</td></tr>\n",
       "\t<tr><th scope=row>U. Kingdom</th><td>1049</td><td> 28523</td><td> 21145</td></tr>\n",
       "\t<tr><th scope=row>Australia</th><td> 294</td><td>  8800</td><td>  4298</td></tr>\n",
       "\t<tr><th scope=row>Canada</th><td> 564</td><td> 14905</td><td>  8603</td></tr>\n",
       "\t<tr><th scope=row>Japan</th><td>3658</td><td> 66450</td><td>103545</td></tr>\n",
       "\t<tr><th scope=row>USA</th><td>5953</td><td>132474</td><td>139255</td></tr>\n",
       "</tbody>\n",
       "</table>\n"
      ],
      "text/latex": [
       "A data.frame: 18 × 3\n",
       "\\begin{tabular}{r|lll}\n",
       "  & i1 & i2 & i3\\\\\n",
       "  & <int> & <int> & <int>\\\\\n",
       "\\hline\n",
       "\tAustria &  184 &   3880 &   1975\\\\\n",
       "\tBelgium &  219 &   4237 &   3189\\\\\n",
       "\tDenmark &  142 &   2903 &   2206\\\\\n",
       "\tFinland &  109 &   2502 &   2271\\\\\n",
       "\tFrance & 1324 &  25385 &  28907\\\\\n",
       "\tGermany & 1939 &  39628 &  38609\\\\\n",
       "\tIreland &   50 &   1375 &    299\\\\\n",
       "\tItaly & 1224 &  23210 &  14190\\\\\n",
       "\tNetherlands &  320 &   7011 &   5581\\\\\n",
       "\tNorway &  113 &   2151 &   1951\\\\\n",
       "\tSpain &  475 &  15701 &   4108\\\\\n",
       "\tSweden &  245 &   4266 &   6927\\\\\n",
       "\tSwitzerland &  243 &   3914 &   7015\\\\\n",
       "\tU. Kingdom & 1049 &  28523 &  21145\\\\\n",
       "\tAustralia &  294 &   8800 &   4298\\\\\n",
       "\tCanada &  564 &  14905 &   8603\\\\\n",
       "\tJapan & 3658 &  66450 & 103545\\\\\n",
       "\tUSA & 5953 & 132474 & 139255\\\\\n",
       "\\end{tabular}\n"
      ],
      "text/markdown": [
       "\n",
       "A data.frame: 18 × 3\n",
       "\n",
       "| <!--/--> | i1 &lt;int&gt; | i2 &lt;int&gt; | i3 &lt;int&gt; |\n",
       "|---|---|---|---|\n",
       "| Austria |  184 |   3880 |   1975 |\n",
       "| Belgium |  219 |   4237 |   3189 |\n",
       "| Denmark |  142 |   2903 |   2206 |\n",
       "| Finland |  109 |   2502 |   2271 |\n",
       "| France | 1324 |  25385 |  28907 |\n",
       "| Germany | 1939 |  39628 |  38609 |\n",
       "| Ireland |   50 |   1375 |    299 |\n",
       "| Italy | 1224 |  23210 |  14190 |\n",
       "| Netherlands |  320 |   7011 |   5581 |\n",
       "| Norway |  113 |   2151 |   1951 |\n",
       "| Spain |  475 |  15701 |   4108 |\n",
       "| Sweden |  245 |   4266 |   6927 |\n",
       "| Switzerland |  243 |   3914 |   7015 |\n",
       "| U. Kingdom | 1049 |  28523 |  21145 |\n",
       "| Australia |  294 |   8800 |   4298 |\n",
       "| Canada |  564 |  14905 |   8603 |\n",
       "| Japan | 3658 |  66450 | 103545 |\n",
       "| USA | 5953 | 132474 | 139255 |\n",
       "\n"
      ],
      "text/plain": [
       "            i1   i2     i3    \n",
       "Austria      184   3880   1975\n",
       "Belgium      219   4237   3189\n",
       "Denmark      142   2903   2206\n",
       "Finland      109   2502   2271\n",
       "France      1324  25385  28907\n",
       "Germany     1939  39628  38609\n",
       "Ireland       50   1375    299\n",
       "Italy       1224  23210  14190\n",
       "Netherlands  320   7011   5581\n",
       "Norway       113   2151   1951\n",
       "Spain        475  15701   4108\n",
       "Sweden       245   4266   6927\n",
       "Switzerland  243   3914   7015\n",
       "U. Kingdom  1049  28523  21145\n",
       "Australia    294   8800   4298\n",
       "Canada       564  14905   8603\n",
       "Japan       3658  66450 103545\n",
       "USA         5953 132474 139255"
      ]
     },
     "metadata": {},
     "output_type": "display_data"
    }
   ],
   "source": [
    "inputs <- read.csv(\"inputs.csv\", header = TRUE, sep=\";\", row.names = 1)\n",
    "inputs"
   ]
  },
  {
   "cell_type": "markdown",
   "metadata": {},
   "source": [
    "### Tabela wyjść\n",
    "Pobieramy dane wyjściowe i wpisujemy do tabeli *outputs*:"
   ]
  },
  {
   "cell_type": "code",
   "execution_count": 3,
   "metadata": {},
   "outputs": [
    {
     "data": {
      "text/html": [
       "<table>\n",
       "<caption>A data.frame: 18 × 2</caption>\n",
       "<thead>\n",
       "\t<tr><th></th><th scope=col>o1</th><th scope=col>o2</th></tr>\n",
       "\t<tr><th></th><th scope=col>&lt;int&gt;</th><th scope=col>&lt;int&gt;</th></tr>\n",
       "</thead>\n",
       "<tbody>\n",
       "\t<tr><th scope=row>Austria</th><td>  4322</td><td> 438</td></tr>\n",
       "\t<tr><th scope=row>Belgium</th><td>  6681</td><td> 263</td></tr>\n",
       "\t<tr><th scope=row>Denmark</th><td>  5892</td><td> 231</td></tr>\n",
       "\t<tr><th scope=row>Finland</th><td>  4685</td><td> 170</td></tr>\n",
       "\t<tr><th scope=row>France</th><td> 35612</td><td>3355</td></tr>\n",
       "\t<tr><th scope=row>Germany</th><td> 44173</td><td>8736</td></tr>\n",
       "\t<tr><th scope=row>Ireland</th><td>  1512</td><td>  31</td></tr>\n",
       "\t<tr><th scope=row>Italy</th><td> 21505</td><td>1269</td></tr>\n",
       "\t<tr><th scope=row>Netherlands</th><td> 15110</td><td>1154</td></tr>\n",
       "\t<tr><th scope=row>Norway</th><td>  3389</td><td> 101</td></tr>\n",
       "\t<tr><th scope=row>Spain</th><td> 13047</td><td>  82</td></tr>\n",
       "\t<tr><th scope=row>Sweden</th><td> 11297</td><td> 614</td></tr>\n",
       "\t<tr><th scope=row>Switzerland</th><td> 10381</td><td>1424</td></tr>\n",
       "\t<tr><th scope=row>U. Kingdom</th><td> 59005</td><td>1872</td></tr>\n",
       "\t<tr><th scope=row>Australia</th><td> 14866</td><td> 135</td></tr>\n",
       "\t<tr><th scope=row>Canada</th><td> 30579</td><td> 269</td></tr>\n",
       "\t<tr><th scope=row>Japan</th><td> 51060</td><td>7518</td></tr>\n",
       "\t<tr><th scope=row>USA</th><td>252660</td><td>8531</td></tr>\n",
       "</tbody>\n",
       "</table>\n"
      ],
      "text/latex": [
       "A data.frame: 18 × 2\n",
       "\\begin{tabular}{r|ll}\n",
       "  & o1 & o2\\\\\n",
       "  & <int> & <int>\\\\\n",
       "\\hline\n",
       "\tAustria &   4322 &  438\\\\\n",
       "\tBelgium &   6681 &  263\\\\\n",
       "\tDenmark &   5892 &  231\\\\\n",
       "\tFinland &   4685 &  170\\\\\n",
       "\tFrance &  35612 & 3355\\\\\n",
       "\tGermany &  44173 & 8736\\\\\n",
       "\tIreland &   1512 &   31\\\\\n",
       "\tItaly &  21505 & 1269\\\\\n",
       "\tNetherlands &  15110 & 1154\\\\\n",
       "\tNorway &   3389 &  101\\\\\n",
       "\tSpain &  13047 &   82\\\\\n",
       "\tSweden &  11297 &  614\\\\\n",
       "\tSwitzerland &  10381 & 1424\\\\\n",
       "\tU. Kingdom &  59005 & 1872\\\\\n",
       "\tAustralia &  14866 &  135\\\\\n",
       "\tCanada &  30579 &  269\\\\\n",
       "\tJapan &  51060 & 7518\\\\\n",
       "\tUSA & 252660 & 8531\\\\\n",
       "\\end{tabular}\n"
      ],
      "text/markdown": [
       "\n",
       "A data.frame: 18 × 2\n",
       "\n",
       "| <!--/--> | o1 &lt;int&gt; | o2 &lt;int&gt; |\n",
       "|---|---|---|\n",
       "| Austria |   4322 |  438 |\n",
       "| Belgium |   6681 |  263 |\n",
       "| Denmark |   5892 |  231 |\n",
       "| Finland |   4685 |  170 |\n",
       "| France |  35612 | 3355 |\n",
       "| Germany |  44173 | 8736 |\n",
       "| Ireland |   1512 |   31 |\n",
       "| Italy |  21505 | 1269 |\n",
       "| Netherlands |  15110 | 1154 |\n",
       "| Norway |   3389 |  101 |\n",
       "| Spain |  13047 |   82 |\n",
       "| Sweden |  11297 |  614 |\n",
       "| Switzerland |  10381 | 1424 |\n",
       "| U. Kingdom |  59005 | 1872 |\n",
       "| Australia |  14866 |  135 |\n",
       "| Canada |  30579 |  269 |\n",
       "| Japan |  51060 | 7518 |\n",
       "| USA | 252660 | 8531 |\n",
       "\n"
      ],
      "text/plain": [
       "            o1     o2  \n",
       "Austria       4322  438\n",
       "Belgium       6681  263\n",
       "Denmark       5892  231\n",
       "Finland       4685  170\n",
       "France       35612 3355\n",
       "Germany      44173 8736\n",
       "Ireland       1512   31\n",
       "Italy        21505 1269\n",
       "Netherlands  15110 1154\n",
       "Norway        3389  101\n",
       "Spain        13047   82\n",
       "Sweden       11297  614\n",
       "Switzerland  10381 1424\n",
       "U. Kingdom   59005 1872\n",
       "Australia    14866  135\n",
       "Canada       30579  269\n",
       "Japan        51060 7518\n",
       "USA         252660 8531"
      ]
     },
     "metadata": {},
     "output_type": "display_data"
    }
   ],
   "source": [
    "outputs <- read.csv(\"outputs.csv\", header = TRUE, sep=\";\", row.names = 1)\n",
    "outputs"
   ]
  },
  {
   "cell_type": "markdown",
   "metadata": {},
   "source": [
    "### Wyznaczenie wymiarów modelu:\n",
    "Wyznaczamy wymiary naszego modelu i zapisujemy do zmiennej *science_dim*.\n",
    "\n",
    "W naszym przypadku jej wartość to **liczba wierszy z tabeli wejść plus theta** *(18 + 1 = 19)*."
   ]
  },
  {
   "cell_type": "code",
   "execution_count": 4,
   "metadata": {},
   "outputs": [],
   "source": [
    "science_dim <- nrow(inputs) + 1"
   ]
  },
  {
   "cell_type": "markdown",
   "metadata": {},
   "source": [
    "### Określenie wymiarów modelu:\n",
    "Funkcja, która utworzy model dla podanego wymiaru. "
   ]
  },
  {
   "cell_type": "code",
   "execution_count": 5,
   "metadata": {},
   "outputs": [],
   "source": [
    "createModel = function()\n",
    "{\n",
    "    return(make.lp(ncol = science_dim))\n",
    "}"
   ]
  },
  {
   "cell_type": "markdown",
   "metadata": {},
   "source": [
    "### Określenie kierunku optymalizacji:\n",
    "Funkcja, która określi kierunek optymalizacji naszego modelu na **minimalizację**."
   ]
  },
  {
   "cell_type": "code",
   "execution_count": 6,
   "metadata": {},
   "outputs": [],
   "source": [
    "setDirection = function(model) \n",
    "{\n",
    "    lp.control(model, sense = \"min\")\n",
    "}"
   ]
  },
  {
   "cell_type": "markdown",
   "metadata": {},
   "source": [
    "### Określenie funkcji celu:\n",
    "Funkcja, która określi co chcemy minimalizować. \n",
    "W naszym przypadku jest to tylko **theta**, czyli **pierwsza zmienna**."
   ]
  },
  {
   "cell_type": "code",
   "execution_count": 7,
   "metadata": {},
   "outputs": [],
   "source": [
    "setObjective = function(model, inputs, outputs, country)\n",
    "{\n",
    "    objective_coeffs = 1:1\n",
    "    set.objfn(model, objective_coeffs, indices = 1:1) \n",
    "}"
   ]
  },
  {
   "cell_type": "markdown",
   "metadata": {},
   "source": [
    "### Dodanie pierwszych ograniczeń\n",
    "Funkcja dodająca pierwsze ograniczenia. Opis z karty ćwiczeń przerobionej na laboratoriach: \n",
    "> **combination of inputs not greater than analyzed DMU's multiplied by $\\theta$**."
   ]
  },
  {
   "cell_type": "code",
   "execution_count": 8,
   "metadata": {},
   "outputs": [],
   "source": [
    "addThetaConstraints = function(model, inputs, outputs, country)\n",
    "{\n",
    "    for (i in 2:ncol(inputs))\n",
    "    {\n",
    "        constraint_coeffs = array(0, dim = science_dim)\n",
    "        constraint_coeffs[1] = -1 * inputs[country, i]\n",
    "        constraint_coeffs[2:science_dim] = unlist(inputs[, i])\n",
    "        add.constraint(model, constraint_coeffs, \"<=\", 0)\n",
    "    } \n",
    "}"
   ]
  },
  {
   "cell_type": "markdown",
   "metadata": {},
   "source": [
    "### Dodanie drugich ograniczeń:\n",
    "Funkcja dodające drugie ograniczenia. Opis z karty przerobionej na laboratoriach:\n",
    "> **combination of output not less than analyzed DMU's**."
   ]
  },
  {
   "cell_type": "code",
   "execution_count": 9,
   "metadata": {},
   "outputs": [],
   "source": [
    "addOutputConstraints = function(model, inputs, outputs, country)\n",
    "{\n",
    "    for(i in 2:ncol(outputs))\n",
    "    {\n",
    "        constraint_coeffs = array(0, dim = science_dim)\n",
    "        constraint_coeffs[2:science_dim] = unlist(outputs[, i])\n",
    "        add.constraint(model, constraint_coeffs, \">=\", outputs[country, i])\n",
    "    }\n",
    "}"
   ]
  },
  {
   "cell_type": "markdown",
   "metadata": {},
   "source": [
    "### Tworzenie całego modelu\n",
    "Funkcja, która stworzy model o odpowiednich wymiarach, nada kierunek optymalizacji i funkcję celu oraz doda ograniczenia."
   ]
  },
  {
   "cell_type": "code",
   "execution_count": 10,
   "metadata": {},
   "outputs": [],
   "source": [
    "createScienceCCRModel = function(inputs, outputs, country)\n",
    "{\n",
    "    model = createModel()\n",
    "    setDirection(model)\n",
    "    setObjective(model, inputs, outputs, country)\n",
    "    addThetaConstraints(model, inputs, outputs, country)\n",
    "    addOutputConstraints(model, inputs, outputs, country)\n",
    "    return(model)\n",
    "}"
   ]
  },
  {
   "cell_type": "markdown",
   "metadata": {},
   "source": [
    "### Wyniki\n",
    "Iterujemy po wszystkich krajach i obliczami ich efektywność. Dla jednostek nieefektywnych obliczami o ile muszą się poprawić - zmniejszyć input - zgdonie ze wzorem:\n",
    "> $original\\_input \\cdot (1 - \\theta)$"
   ]
  },
  {
   "cell_type": "code",
   "execution_count": 11,
   "metadata": {},
   "outputs": [
    {
     "name": "stdout",
     "output_type": "stream",
     "text": [
      "Austria \n",
      "  efektywność = 0.9801283 \n",
      "  lambda Germany 0.05013736\n",
      "  3.656389  77.10211  39.24657\n",
      "\n",
      "Belgium \n",
      "  efektywność = 0.3644829 \n",
      "  lambda Germany 0.03010531\n",
      "  139.1782  2692.686  2026.664\n",
      "\n",
      "Denmark \n",
      "  efektywność = 0.4627883 \n",
      "  lambda Germany 0.02644231\n",
      "  76.28406  1559.525  1185.089\n",
      "\n",
      "Finland \n",
      "  efektywność = 0.3308322 \n",
      "  lambda Germany 0.01945971\n",
      "  72.9393  1674.258  1519.68\n",
      "\n",
      "France \n",
      "  efektywność = 0.5301964 \n",
      "  lambda Germany 0.2713514  lambda Switzerland 0.6913443\n",
      "  622.02  11925.97  13580.61\n",
      "\n",
      "Germany \n",
      "  efektywność = 1 \n",
      "  lambda Germany 1\n",
      "\n",
      "\n",
      "Ireland \n",
      "  efektywność = 0.458212 \n",
      "  lambda Germany 0.003548535\n",
      "  27.0894  744.9585  161.9946\n",
      "\n",
      "Italy \n",
      "  efektywność = 0.3952348 \n",
      "  lambda Germany 0.145261\n",
      "  740.2326  14036.6  8581.618\n",
      "\n",
      "Netherlands \n",
      "  efektywność = 0.9138391 \n",
      "  lambda Germany 0.1320971\n",
      "  27.5715  604.0744  480.8642\n",
      "\n",
      "Norway \n",
      "  efektywność = 0.2287916 \n",
      "  lambda Germany 0.01156136\n",
      "  87.14655  1658.869  1504.628\n",
      "\n",
      "Spain \n",
      "  efektywność = 0.08821843 \n",
      "  lambda Germany 0.009386447\n",
      "  433.0962  14315.88  3745.599\n",
      "\n",
      "Sweden \n",
      "  efektywność = 0.4305553 \n",
      "  lambda Germany 0.009548458  lambda Switzerland 0.3726016\n",
      "  139.514  2429.251  3944.543\n",
      "\n",
      "Switzerland \n",
      "  efektywność = 1 \n",
      "  lambda Switzerland 1\n",
      "\n",
      "\n",
      "U. Kingdom \n",
      "  efektywność = 0.3912678 \n",
      "  lambda Germany 0.2142857\n",
      "  638.5601  17362.87  12871.64\n",
      "\n",
      "Australia \n",
      "  efektywność = 0.1388172 \n",
      "  lambda Germany 0.0154533\n",
      "  253.1877  7578.409  3701.364\n",
      "\n",
      "Canada \n",
      "  efektywność = 0.1381905 \n",
      "  lambda Germany 0.03079212\n",
      "  486.0605  12845.27  7414.147\n",
      "\n",
      "Japan \n",
      "  efektywność = 0.3504877 \n",
      "  lambda Germany 0.168156  lambda Switzerland 4.247886\n",
      "  2375.916  43160.09  67253.75\n",
      "\n",
      "USA \n",
      "  efektywność = 0.2752869 \n",
      "  lambda Germany 0.8337513  lambda Switzerland 0.8759474\n",
      "  4314.217  96005.65  100919.9\n",
      "\n"
     ]
    }
   ],
   "source": [
    "for (country in 1:18)\n",
    "{\n",
    "    model <- createScienceCCRModel(inputs, outputs, country)\n",
    "    solve(model)\n",
    "    \n",
    "    efficiency <- get.objective(model)\n",
    "    lambdas <-  get.variables(model)\n",
    "    \n",
    "    cat(rownames(inputs)[country], \"\\n  efektywność =\", efficiency, \"\\n\")\n",
    "    for (lamb in 2:length(lambdas))\n",
    "    {\n",
    "        if (lambdas[lamb] > 0)\n",
    "        {\n",
    "            cat(\"  lambda\", rownames(inputs)[lamb - 1], lambdas[lamb])\n",
    "        }\n",
    "    }\n",
    "    cat(\"\\n\")\n",
    "    \n",
    "    if (efficiency < 0.9999999)\n",
    "    {\n",
    "        for(in_var in 1:3)\n",
    "        {\n",
    "            cat(\" \", inputs[country, in_var] * (1 - efficiency))\n",
    "        }\n",
    "    }\n",
    "    cat(\"\\n\\n\")\n",
    "}"
   ]
  }
 ],
 "metadata": {
  "kernelspec": {
   "display_name": "R",
   "language": "R",
   "name": "ir"
  },
  "language_info": {
   "codemirror_mode": "r",
   "file_extension": ".r",
   "mimetype": "text/x-r-source",
   "name": "R",
   "pygments_lexer": "r",
   "version": "3.4.4"
  }
 },
 "nbformat": 4,
 "nbformat_minor": 2
}
