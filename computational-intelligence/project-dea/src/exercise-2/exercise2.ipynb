{
 "cells": [
  {
   "cell_type": "markdown",
   "metadata": {},
   "source": [
    "Follow the steps below to implement DEA primary CCR input-oriented model.\n",
    "\n",
    "The analysed problem is the following: we have set of 4 car garages with 2 inputs and 2 outputs. We need to identify which ones of them are efficient."
   ]
  },
  {
   "cell_type": "markdown",
   "metadata": {},
   "source": [
    "1) Load necessry package"
   ]
  },
  {
   "cell_type": "code",
   "execution_count": 1,
   "metadata": {},
   "outputs": [],
   "source": [
    "library(lpSolveAPI)"
   ]
  },
  {
   "cell_type": "markdown",
   "metadata": {},
   "source": [
    "2) Load data about input and output values from files inputs-ex2.csv and outputs-ex2.csv\n",
    "\n",
    "Use read.csv function as in Execrise 1."
   ]
  },
  {
   "cell_type": "code",
   "execution_count": 2,
   "metadata": {},
   "outputs": [
    {
     "data": {
      "text/html": [
       "<table>\n",
       "<caption>A data.frame: 4 × 3</caption>\n",
       "<thead>\n",
       "\t<tr><th scope=col>X</th><th scope=col>Staff</th><th scope=col>Showroom.space</th></tr>\n",
       "\t<tr><th scope=col>&lt;fct&gt;</th><th scope=col>&lt;int&gt;</th><th scope=col>&lt;int&gt;</th></tr>\n",
       "</thead>\n",
       "<tbody>\n",
       "\t<tr><td>Winchester </td><td> 7</td><td>8</td></tr>\n",
       "\t<tr><td>Andover    </td><td> 6</td><td>6</td></tr>\n",
       "\t<tr><td>Basingstoke</td><td> 2</td><td>3</td></tr>\n",
       "\t<tr><td>Poole      </td><td>14</td><td>9</td></tr>\n",
       "</tbody>\n",
       "</table>\n"
      ],
      "text/latex": [
       "A data.frame: 4 × 3\n",
       "\\begin{tabular}{r|lll}\n",
       " X & Staff & Showroom.space\\\\\n",
       " <fct> & <int> & <int>\\\\\n",
       "\\hline\n",
       "\t Winchester  &  7 & 8\\\\\n",
       "\t Andover     &  6 & 6\\\\\n",
       "\t Basingstoke &  2 & 3\\\\\n",
       "\t Poole       & 14 & 9\\\\\n",
       "\\end{tabular}\n"
      ],
      "text/markdown": [
       "\n",
       "A data.frame: 4 × 3\n",
       "\n",
       "| X &lt;fct&gt; | Staff &lt;int&gt; | Showroom.space &lt;int&gt; |\n",
       "|---|---|---|\n",
       "| Winchester  |  7 | 8 |\n",
       "| Andover     |  6 | 6 |\n",
       "| Basingstoke |  2 | 3 |\n",
       "| Poole       | 14 | 9 |\n",
       "\n"
      ],
      "text/plain": [
       "  X           Staff Showroom.space\n",
       "1 Winchester   7    8             \n",
       "2 Andover      6    6             \n",
       "3 Basingstoke  2    3             \n",
       "4 Poole       14    9             "
      ]
     },
     "metadata": {},
     "output_type": "display_data"
    },
    {
     "data": {
      "text/html": [
       "<table>\n",
       "<caption>A data.frame: 4 × 3</caption>\n",
       "<thead>\n",
       "\t<tr><th scope=col>X</th><th scope=col>Sales</th><th scope=col>Profit</th></tr>\n",
       "\t<tr><th scope=col>&lt;fct&gt;</th><th scope=col>&lt;dbl&gt;</th><th scope=col>&lt;dbl&gt;</th></tr>\n",
       "</thead>\n",
       "<tbody>\n",
       "\t<tr><td>Winchester </td><td>2.0</td><td>1.5</td></tr>\n",
       "\t<tr><td>Andover    </td><td>2.3</td><td>1.6</td></tr>\n",
       "\t<tr><td>Basingstoke</td><td>0.8</td><td>0.5</td></tr>\n",
       "\t<tr><td>Poole      </td><td>2.6</td><td>1.9</td></tr>\n",
       "</tbody>\n",
       "</table>\n"
      ],
      "text/latex": [
       "A data.frame: 4 × 3\n",
       "\\begin{tabular}{r|lll}\n",
       " X & Sales & Profit\\\\\n",
       " <fct> & <dbl> & <dbl>\\\\\n",
       "\\hline\n",
       "\t Winchester  & 2.0 & 1.5\\\\\n",
       "\t Andover     & 2.3 & 1.6\\\\\n",
       "\t Basingstoke & 0.8 & 0.5\\\\\n",
       "\t Poole       & 2.6 & 1.9\\\\\n",
       "\\end{tabular}\n"
      ],
      "text/markdown": [
       "\n",
       "A data.frame: 4 × 3\n",
       "\n",
       "| X &lt;fct&gt; | Sales &lt;dbl&gt; | Profit &lt;dbl&gt; |\n",
       "|---|---|---|\n",
       "| Winchester  | 2.0 | 1.5 |\n",
       "| Andover     | 2.3 | 1.6 |\n",
       "| Basingstoke | 0.8 | 0.5 |\n",
       "| Poole       | 2.6 | 1.9 |\n",
       "\n"
      ],
      "text/plain": [
       "  X           Sales Profit\n",
       "1 Winchester  2.0   1.5   \n",
       "2 Andover     2.3   1.6   \n",
       "3 Basingstoke 0.8   0.5   \n",
       "4 Poole       2.6   1.9   "
      ]
     },
     "metadata": {},
     "output_type": "display_data"
    }
   ],
   "source": [
    "inputs <- read.csv(\"inputs-ex2.csv\", header = TRUE, sep=\";\")\n",
    "outputs <- read.csv(\"outputs-ex2.csv\", header = TRUE, sep=\";\")\n",
    "inputs\n",
    "outputs"
   ]
  },
  {
   "cell_type": "markdown",
   "metadata": {},
   "source": [
    "3) Before implementing the model, we remind the primary CCR model for calculating efficiency score for a selected car garage.\n",
    "\n",
    "Objective function:\n",
    "\n",
    "$$max \\space μ_1y_{10} + μ_2y_{20}$$\n",
    "\n",
    "where $y_{10}$ and $y_{20}$ are, respectively, values of outputs for garage for which efficiency score we want to calculate.\n",
    "\n",
    "Constraints:\n",
    "* weighted sum of inputs for a subject unit equal to 1:\n",
    "$$ν_1x_{10} + ν_2x_{20} = 1$$\n",
    "* efficiencies for all units are <= 1:\n",
    "$$ μ_1y_{1i} + μ_2y_{2i} <= ν_1x_{1i} + ν_2x_{2i}, \\space i = 1, 2, ..., K$$ (K=4 in our case)"
   ]
  },
  {
   "cell_type": "markdown",
   "metadata": {},
   "source": [
    "4) Implement body of createModel function. \n",
    "\n",
    "Return the model using make.lp function (as in exercise 1).\n",
    "\n",
    "How many decision variables do you need in the problem?"
   ]
  },
  {
   "cell_type": "code",
   "execution_count": 3,
   "metadata": {},
   "outputs": [],
   "source": [
    "createModel = function()\n",
    "{\n",
    "    param = ncol(inputs) + ncol(outputs) - 2\n",
    "    return(make.lp(ncol = param)) #variables 1-2 input weights, 3-4 output weights\n",
    "}\n",
    "model <- createModel()"
   ]
  },
  {
   "cell_type": "markdown",
   "metadata": {},
   "source": [
    "5) Set model's optimization direction (as in the exercise before). \n",
    "\n",
    "You don't need to change variable types. They are of type \"real\" by default."
   ]
  },
  {
   "cell_type": "code",
   "execution_count": 4,
   "metadata": {},
   "outputs": [
    {
     "data": {
      "text/html": [
       "<dl>\n",
       "\t<dt>$anti.degen</dt>\n",
       "\t\t<dd><ol class=list-inline>\n",
       "\t<li>'fixedvars'</li>\n",
       "\t<li>'stalling'</li>\n",
       "</ol>\n",
       "</dd>\n",
       "\t<dt>$basis.crash</dt>\n",
       "\t\t<dd>'none'</dd>\n",
       "\t<dt>$bb.depthlimit</dt>\n",
       "\t\t<dd>-50</dd>\n",
       "\t<dt>$bb.floorfirst</dt>\n",
       "\t\t<dd>'automatic'</dd>\n",
       "\t<dt>$bb.rule</dt>\n",
       "\t\t<dd><ol class=list-inline>\n",
       "\t<li>'pseudononint'</li>\n",
       "\t<li>'greedy'</li>\n",
       "\t<li>'dynamic'</li>\n",
       "\t<li>'rcostfixing'</li>\n",
       "</ol>\n",
       "</dd>\n",
       "\t<dt>$break.at.first</dt>\n",
       "\t\t<dd>FALSE</dd>\n",
       "\t<dt>$break.at.value</dt>\n",
       "\t\t<dd>1e+30</dd>\n",
       "\t<dt>$epsilon</dt>\n",
       "\t\t<dd><dl class=dl-horizontal>\n",
       "\t<dt>epsb</dt>\n",
       "\t\t<dd>1e-10</dd>\n",
       "\t<dt>epsd</dt>\n",
       "\t\t<dd>1e-09</dd>\n",
       "\t<dt>epsel</dt>\n",
       "\t\t<dd>1e-12</dd>\n",
       "\t<dt>epsint</dt>\n",
       "\t\t<dd>1e-07</dd>\n",
       "\t<dt>epsperturb</dt>\n",
       "\t\t<dd>1e-05</dd>\n",
       "\t<dt>epspivot</dt>\n",
       "\t\t<dd>2e-07</dd>\n",
       "</dl>\n",
       "</dd>\n",
       "\t<dt>$improve</dt>\n",
       "\t\t<dd><ol class=list-inline>\n",
       "\t<li>'dualfeas'</li>\n",
       "\t<li>'thetagap'</li>\n",
       "</ol>\n",
       "</dd>\n",
       "\t<dt>$infinite</dt>\n",
       "\t\t<dd>1e+30</dd>\n",
       "\t<dt>$maxpivot</dt>\n",
       "\t\t<dd>250</dd>\n",
       "\t<dt>$mip.gap</dt>\n",
       "\t\t<dd><dl class=dl-horizontal>\n",
       "\t<dt>absolute</dt>\n",
       "\t\t<dd>1e-11</dd>\n",
       "\t<dt>relative</dt>\n",
       "\t\t<dd>1e-11</dd>\n",
       "</dl>\n",
       "</dd>\n",
       "\t<dt>$negrange</dt>\n",
       "\t\t<dd>-1e+06</dd>\n",
       "\t<dt>$obj.in.basis</dt>\n",
       "\t\t<dd>TRUE</dd>\n",
       "\t<dt>$pivoting</dt>\n",
       "\t\t<dd><ol class=list-inline>\n",
       "\t<li>'devex'</li>\n",
       "\t<li>'adaptive'</li>\n",
       "</ol>\n",
       "</dd>\n",
       "\t<dt>$presolve</dt>\n",
       "\t\t<dd>'none'</dd>\n",
       "\t<dt>$scalelimit</dt>\n",
       "\t\t<dd>5</dd>\n",
       "\t<dt>$scaling</dt>\n",
       "\t\t<dd><ol class=list-inline>\n",
       "\t<li>'geometric'</li>\n",
       "\t<li>'equilibrate'</li>\n",
       "\t<li>'integers'</li>\n",
       "</ol>\n",
       "</dd>\n",
       "\t<dt>$sense</dt>\n",
       "\t\t<dd>'maximize'</dd>\n",
       "\t<dt>$simplextype</dt>\n",
       "\t\t<dd><ol class=list-inline>\n",
       "\t<li>'dual'</li>\n",
       "\t<li>'primal'</li>\n",
       "</ol>\n",
       "</dd>\n",
       "\t<dt>$timeout</dt>\n",
       "\t\t<dd>0</dd>\n",
       "\t<dt>$verbose</dt>\n",
       "\t\t<dd>'neutral'</dd>\n",
       "</dl>\n"
      ],
      "text/latex": [
       "\\begin{description}\n",
       "\\item[\\$anti.degen] \\begin{enumerate*}\n",
       "\\item 'fixedvars'\n",
       "\\item 'stalling'\n",
       "\\end{enumerate*}\n",
       "\n",
       "\\item[\\$basis.crash] 'none'\n",
       "\\item[\\$bb.depthlimit] -50\n",
       "\\item[\\$bb.floorfirst] 'automatic'\n",
       "\\item[\\$bb.rule] \\begin{enumerate*}\n",
       "\\item 'pseudononint'\n",
       "\\item 'greedy'\n",
       "\\item 'dynamic'\n",
       "\\item 'rcostfixing'\n",
       "\\end{enumerate*}\n",
       "\n",
       "\\item[\\$break.at.first] FALSE\n",
       "\\item[\\$break.at.value] 1e+30\n",
       "\\item[\\$epsilon] \\begin{description*}\n",
       "\\item[epsb] 1e-10\n",
       "\\item[epsd] 1e-09\n",
       "\\item[epsel] 1e-12\n",
       "\\item[epsint] 1e-07\n",
       "\\item[epsperturb] 1e-05\n",
       "\\item[epspivot] 2e-07\n",
       "\\end{description*}\n",
       "\n",
       "\\item[\\$improve] \\begin{enumerate*}\n",
       "\\item 'dualfeas'\n",
       "\\item 'thetagap'\n",
       "\\end{enumerate*}\n",
       "\n",
       "\\item[\\$infinite] 1e+30\n",
       "\\item[\\$maxpivot] 250\n",
       "\\item[\\$mip.gap] \\begin{description*}\n",
       "\\item[absolute] 1e-11\n",
       "\\item[relative] 1e-11\n",
       "\\end{description*}\n",
       "\n",
       "\\item[\\$negrange] -1e+06\n",
       "\\item[\\$obj.in.basis] TRUE\n",
       "\\item[\\$pivoting] \\begin{enumerate*}\n",
       "\\item 'devex'\n",
       "\\item 'adaptive'\n",
       "\\end{enumerate*}\n",
       "\n",
       "\\item[\\$presolve] 'none'\n",
       "\\item[\\$scalelimit] 5\n",
       "\\item[\\$scaling] \\begin{enumerate*}\n",
       "\\item 'geometric'\n",
       "\\item 'equilibrate'\n",
       "\\item 'integers'\n",
       "\\end{enumerate*}\n",
       "\n",
       "\\item[\\$sense] 'maximize'\n",
       "\\item[\\$simplextype] \\begin{enumerate*}\n",
       "\\item 'dual'\n",
       "\\item 'primal'\n",
       "\\end{enumerate*}\n",
       "\n",
       "\\item[\\$timeout] 0\n",
       "\\item[\\$verbose] 'neutral'\n",
       "\\end{description}\n"
      ],
      "text/markdown": [
       "$anti.degen\n",
       ":   1. 'fixedvars'\n",
       "2. 'stalling'\n",
       "\n",
       "\n",
       "\n",
       "$basis.crash\n",
       ":   'none'\n",
       "$bb.depthlimit\n",
       ":   -50\n",
       "$bb.floorfirst\n",
       ":   'automatic'\n",
       "$bb.rule\n",
       ":   1. 'pseudononint'\n",
       "2. 'greedy'\n",
       "3. 'dynamic'\n",
       "4. 'rcostfixing'\n",
       "\n",
       "\n",
       "\n",
       "$break.at.first\n",
       ":   FALSE\n",
       "$break.at.value\n",
       ":   1e+30\n",
       "$epsilon\n",
       ":   epsb\n",
       ":   1e-10epsd\n",
       ":   1e-09epsel\n",
       ":   1e-12epsint\n",
       ":   1e-07epsperturb\n",
       ":   1e-05epspivot\n",
       ":   2e-07\n",
       "\n",
       "\n",
       "$improve\n",
       ":   1. 'dualfeas'\n",
       "2. 'thetagap'\n",
       "\n",
       "\n",
       "\n",
       "$infinite\n",
       ":   1e+30\n",
       "$maxpivot\n",
       ":   250\n",
       "$mip.gap\n",
       ":   absolute\n",
       ":   1e-11relative\n",
       ":   1e-11\n",
       "\n",
       "\n",
       "$negrange\n",
       ":   -1e+06\n",
       "$obj.in.basis\n",
       ":   TRUE\n",
       "$pivoting\n",
       ":   1. 'devex'\n",
       "2. 'adaptive'\n",
       "\n",
       "\n",
       "\n",
       "$presolve\n",
       ":   'none'\n",
       "$scalelimit\n",
       ":   5\n",
       "$scaling\n",
       ":   1. 'geometric'\n",
       "2. 'equilibrate'\n",
       "3. 'integers'\n",
       "\n",
       "\n",
       "\n",
       "$sense\n",
       ":   'maximize'\n",
       "$simplextype\n",
       ":   1. 'dual'\n",
       "2. 'primal'\n",
       "\n",
       "\n",
       "\n",
       "$timeout\n",
       ":   0\n",
       "$verbose\n",
       ":   'neutral'\n",
       "\n",
       "\n"
      ],
      "text/plain": [
       "$anti.degen\n",
       "[1] \"fixedvars\" \"stalling\" \n",
       "\n",
       "$basis.crash\n",
       "[1] \"none\"\n",
       "\n",
       "$bb.depthlimit\n",
       "[1] -50\n",
       "\n",
       "$bb.floorfirst\n",
       "[1] \"automatic\"\n",
       "\n",
       "$bb.rule\n",
       "[1] \"pseudononint\" \"greedy\"       \"dynamic\"      \"rcostfixing\" \n",
       "\n",
       "$break.at.first\n",
       "[1] FALSE\n",
       "\n",
       "$break.at.value\n",
       "[1] 1e+30\n",
       "\n",
       "$epsilon\n",
       "      epsb       epsd      epsel     epsint epsperturb   epspivot \n",
       "     1e-10      1e-09      1e-12      1e-07      1e-05      2e-07 \n",
       "\n",
       "$improve\n",
       "[1] \"dualfeas\" \"thetagap\"\n",
       "\n",
       "$infinite\n",
       "[1] 1e+30\n",
       "\n",
       "$maxpivot\n",
       "[1] 250\n",
       "\n",
       "$mip.gap\n",
       "absolute relative \n",
       "   1e-11    1e-11 \n",
       "\n",
       "$negrange\n",
       "[1] -1e+06\n",
       "\n",
       "$obj.in.basis\n",
       "[1] TRUE\n",
       "\n",
       "$pivoting\n",
       "[1] \"devex\"    \"adaptive\"\n",
       "\n",
       "$presolve\n",
       "[1] \"none\"\n",
       "\n",
       "$scalelimit\n",
       "[1] 5\n",
       "\n",
       "$scaling\n",
       "[1] \"geometric\"   \"equilibrate\" \"integers\"   \n",
       "\n",
       "$sense\n",
       "[1] \"maximize\"\n",
       "\n",
       "$simplextype\n",
       "[1] \"dual\"   \"primal\"\n",
       "\n",
       "$timeout\n",
       "[1] 0\n",
       "\n",
       "$verbose\n",
       "[1] \"neutral\"\n"
      ]
     },
     "metadata": {},
     "output_type": "display_data"
    }
   ],
   "source": [
    "setDirection = function(model) \n",
    "{\n",
    "    lp.control(model, sense = \"max\")\n",
    "}\n",
    "setDirection(model)"
   ]
  },
  {
   "cell_type": "markdown",
   "metadata": {},
   "source": [
    "6) Add model objective function.\n",
    "\n",
    "Implement setObjective function body. The arguments are: created model, loaded files (inputs and outputs) and identifier of garage which efficiency is to be computed.\n",
    "\n",
    "Set coefficients for the objective function, i.e., output values for the garage under evaluation. Additionally, you need to set which indices (columns -> 3 and 4 as these are outputs) take part in the objective function (indices = c(3, 4))."
   ]
  },
  {
   "cell_type": "code",
   "execution_count": 5,
   "metadata": {},
   "outputs": [],
   "source": [
    "setObjective = function(model, inputs, outputs, subjectGarageId)\n",
    "{\n",
    "    objective_coeffs = outputs[subjectGarageId, 2:3]\n",
    "    set.objfn(model, objective_coeffs, indices = c(3,4)) \n",
    "}\n",
    "setObjective(model, inputs, outputs, 1)"
   ]
  },
  {
   "cell_type": "markdown",
   "metadata": {},
   "source": [
    "7) Add model constraint which sets the weighted sum of inputs of the considered garage to 1."
   ]
  },
  {
   "cell_type": "code",
   "execution_count": 6,
   "metadata": {},
   "outputs": [],
   "source": [
    "addUnityConstraint = function(model, inputs, outputs, subjectGarageId)\n",
    "{\n",
    "    constraint_coeffs = array(0, dim=4)\n",
    "    constraint_coeffs[1:2] = unlist(inputs[subjectGarageId, 2:3])\n",
    "    add.constraint(model, constraint_coeffs, \"=\", 1) \n",
    "}\n",
    "addUnityConstraint(model, inputs, outputs, 1)"
   ]
  },
  {
   "cell_type": "markdown",
   "metadata": {},
   "source": [
    "8) Add inequality constraints (limiting the efficiency of each garage to 1)."
   ]
  },
  {
   "cell_type": "code",
   "execution_count": 7,
   "metadata": {},
   "outputs": [],
   "source": [
    "addOtherConstraints = function(model, inputs, outputs)\n",
    "{\n",
    "    for(i in 1:nrow(inputs)) # one constraint for each DMU\n",
    "    {\n",
    "        constraint_coeffs = array(0, dim = 4)\n",
    "        constraint_coeffs[1:2] = unlist(-1 * inputs[i, 2:3])\n",
    "        constraint_coeffs[3:4] = unlist(outputs[i, 2:3])\n",
    "        add.constraint(model, constraint_coeffs, \"<=\", 0)\n",
    "    }\n",
    "}\n",
    "addOtherConstraints(model, inputs, outputs)"
   ]
  },
  {
   "cell_type": "markdown",
   "metadata": {},
   "source": [
    "9) Run the solver and print the efficiency score "
   ]
  },
  {
   "cell_type": "code",
   "execution_count": 8,
   "metadata": {},
   "outputs": [
    {
     "data": {
      "text/html": [
       "0"
      ],
      "text/latex": [
       "0"
      ],
      "text/markdown": [
       "0"
      ],
      "text/plain": [
       "[1] 0"
      ]
     },
     "metadata": {},
     "output_type": "display_data"
    },
    {
     "data": {
      "text/html": [
       "0.803571428571429"
      ],
      "text/latex": [
       "0.803571428571429"
      ],
      "text/markdown": [
       "0.803571428571429"
      ],
      "text/plain": [
       "[1] 0.8035714"
      ]
     },
     "metadata": {},
     "output_type": "display_data"
    }
   ],
   "source": [
    "solve(model)\n",
    "get.objective(model)"
   ]
  },
  {
   "cell_type": "code",
   "execution_count": 9,
   "metadata": {},
   "outputs": [
    {
     "name": "stdout",
     "output_type": "stream",
     "text": [
      "[1] \"Winchester: 0.803571428571429\"\n",
      "[1] \"Andover: 1\"\n",
      "[1] \"Basingstoke: 1\"\n",
      "[1] \"Poole: 0.791666666666667\"\n"
     ]
    }
   ],
   "source": [
    "inputs <- read.csv(\"inputs-ex2.csv\", sep=\";\")\n",
    "outputs <- read.csv(\"outputs-ex2.csv\", sep=\";\")\n",
    "for(garage in 1:4)\n",
    "{\n",
    "    model = createModel()\n",
    "    setDirection(model)\n",
    "    setObjective(model, inputs, outputs, garage)\n",
    "    addUnityConstraint(model, inputs, outputs, garage)\n",
    "    addOtherConstraints(model, inputs, outputs)\n",
    "    solve(model)\n",
    "    efficiency = get.objective(model)\n",
    "    print(paste(inputs[garage, 1], \": \", efficiency, sep=\"\"))\n",
    "}"
   ]
  },
  {
   "cell_type": "code",
   "execution_count": null,
   "metadata": {},
   "outputs": [],
   "source": []
  }
 ],
 "metadata": {
  "kernelspec": {
   "display_name": "R",
   "language": "R",
   "name": "ir"
  },
  "language_info": {
   "codemirror_mode": "r",
   "file_extension": ".r",
   "mimetype": "text/x-r-source",
   "name": "R",
   "pygments_lexer": "r",
   "version": "3.4.4"
  }
 },
 "nbformat": 4,
 "nbformat_minor": 2
}
