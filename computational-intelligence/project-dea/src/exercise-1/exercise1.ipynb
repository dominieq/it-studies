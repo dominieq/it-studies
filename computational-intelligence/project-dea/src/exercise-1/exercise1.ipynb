{
 "cells": [
  {
   "cell_type": "markdown",
   "metadata": {},
   "source": [
    "Follow the steps below to learn how to use R and lpSolveAPI library to solve linear programming models.\n",
    "\n",
    "Analysed problem:\n",
    "\n",
    "A calculator company produces a scientific calculator and a graphing calculator. Long-term projections indicate an expected demand of at least 100 scientific and 80 graphing calculators each day. Because of limitations on production capacity, no more than 200 scientific and 170 graphing calculators can be made daily. To satisfy a shipping contract, a total of at least 200 calculators much be shipped each day.\n",
    "If each scientific calculator sold results in a `$`2 loss, but each graphing calculator produces a `$`5 profit, how many of each type should be made daily to maximize net profits?"
   ]
  },
  {
   "cell_type": "markdown",
   "metadata": {},
   "source": [
    "0) Install lpSolveAPI package if needed. "
   ]
  },
  {
   "cell_type": "code",
   "execution_count": 1,
   "metadata": {},
   "outputs": [],
   "source": [
    "#install.packages(\"lpSolveAPI\")"
   ]
  },
  {
   "cell_type": "markdown",
   "metadata": {},
   "source": [
    "1) Load necessary package"
   ]
  },
  {
   "cell_type": "code",
   "execution_count": 2,
   "metadata": {},
   "outputs": [],
   "source": [
    "library(lpSolveAPI)"
   ]
  },
  {
   "cell_type": "markdown",
   "metadata": {},
   "source": [
    "2) Load data \n",
    "\n",
    "Load data containing profits and limits from csv file. Data about predicted profit, demand and maximal production of each type of calculator are saved in calculators.csv file.\n",
    "\n",
    "Use read.csv to read these files. Remenber that your files have headers and fields which are separated with semicolons. \n",
    "https://stat.ethz.ch/R-manual/R-devel/library/utils/html/read.table.html"
   ]
  },
  {
   "cell_type": "code",
   "execution_count": 3,
   "metadata": {},
   "outputs": [
    {
     "data": {
      "text/html": [
       "<table>\n",
       "<caption>A data.frame: 3 × 3</caption>\n",
       "<thead>\n",
       "\t<tr><th scope=col>X</th><th scope=col>scientific</th><th scope=col>graphic</th></tr>\n",
       "\t<tr><th scope=col>&lt;fct&gt;</th><th scope=col>&lt;int&gt;</th><th scope=col>&lt;int&gt;</th></tr>\n",
       "</thead>\n",
       "<tbody>\n",
       "\t<tr><td>profit       </td><td> -2</td><td>  5</td></tr>\n",
       "\t<tr><td>demand       </td><td>100</td><td> 80</td></tr>\n",
       "\t<tr><td>max prodution</td><td>200</td><td>170</td></tr>\n",
       "</tbody>\n",
       "</table>\n"
      ],
      "text/latex": [
       "A data.frame: 3 × 3\n",
       "\\begin{tabular}{r|lll}\n",
       " X & scientific & graphic\\\\\n",
       " <fct> & <int> & <int>\\\\\n",
       "\\hline\n",
       "\t profit        &  -2 &   5\\\\\n",
       "\t demand        & 100 &  80\\\\\n",
       "\t max prodution & 200 & 170\\\\\n",
       "\\end{tabular}\n"
      ],
      "text/markdown": [
       "\n",
       "A data.frame: 3 × 3\n",
       "\n",
       "| X &lt;fct&gt; | scientific &lt;int&gt; | graphic &lt;int&gt; |\n",
       "|---|---|---|\n",
       "| profit        |  -2 |   5 |\n",
       "| demand        | 100 |  80 |\n",
       "| max prodution | 200 | 170 |\n",
       "\n"
      ],
      "text/plain": [
       "  X             scientific graphic\n",
       "1 profit         -2          5    \n",
       "2 demand        100         80    \n",
       "3 max prodution 200        170    "
      ]
     },
     "metadata": {},
     "output_type": "display_data"
    }
   ],
   "source": [
    "data <- read.csv(\"calculators.csv\", header = TRUE, sep = \";\")\n",
    "data"
   ]
  },
  {
   "cell_type": "markdown",
   "metadata": {},
   "source": [
    "3) Firstly model the problem. We introduce 2 variables s and g meaning, respectively, the number of scientific and the number of graphic calculators. We want to maximize company's profit:\n",
    "\n",
    "\\begin{equation*}\n",
    "max \\quad -2s+5g\n",
    "\\end{equation*}\n",
    "\n",
    "Consider the following constraints:\n",
    "- minimal demand for each type of calculator:\n",
    "\\begin{equation*}\n",
    "s >= 100 \\\\\n",
    "g >= 80\n",
    "\\end{equation*}\n",
    "\n",
    "- production limit for each type of calculator:\n",
    "\\begin{equation*}\n",
    "s <= 200 \\\\\n",
    "g <= 170\n",
    "\\end{equation*}\n",
    "\n",
    "- minimal total number of calculators:\n",
    "\\begin{equation*}\n",
    "s+g >= 200\n",
    "\\end{equation*}"
   ]
  },
  {
   "cell_type": "markdown",
   "metadata": {},
   "source": [
    "4) Create LP model object using make.lp function.\n",
    "https://www.rdocumentation.org/packages/lpSolveAPI/versions/5.5.2.0-17/topics/make.lp\n",
    "\n",
    "The only data you need to pass to this function is a number of decision variables (columns) in your problem."
   ]
  },
  {
   "cell_type": "code",
   "execution_count": 4,
   "metadata": {},
   "outputs": [],
   "source": [
    "model <- make.lp(ncol = ncol(data) - 1)"
   ]
  },
  {
   "cell_type": "markdown",
   "metadata": {},
   "source": [
    "5) Set model's optimization direction and variable types - the number of calculators is an integer variable!\n",
    "To set the direction use lp.control function. Look in a documentation for the parameters which have to be passed.\n",
    "https://www.rdocumentation.org/packages/lpSolveAPI/versions/5.5.2.0-17/topics/lp.control\n",
    "For variable types use set.type functionpassing your model, indexes of variables to be set (in your case: an array containing values 1 and 2), and type (in your case \"integer\")."
   ]
  },
  {
   "cell_type": "code",
   "execution_count": 5,
   "metadata": {},
   "outputs": [
    {
     "data": {
      "text/html": [
       "<dl>\n",
       "\t<dt>$anti.degen</dt>\n",
       "\t\t<dd><ol class=list-inline>\n",
       "\t<li>'fixedvars'</li>\n",
       "\t<li>'stalling'</li>\n",
       "</ol>\n",
       "</dd>\n",
       "\t<dt>$basis.crash</dt>\n",
       "\t\t<dd>'none'</dd>\n",
       "\t<dt>$bb.depthlimit</dt>\n",
       "\t\t<dd>-50</dd>\n",
       "\t<dt>$bb.floorfirst</dt>\n",
       "\t\t<dd>'automatic'</dd>\n",
       "\t<dt>$bb.rule</dt>\n",
       "\t\t<dd><ol class=list-inline>\n",
       "\t<li>'pseudononint'</li>\n",
       "\t<li>'greedy'</li>\n",
       "\t<li>'dynamic'</li>\n",
       "\t<li>'rcostfixing'</li>\n",
       "</ol>\n",
       "</dd>\n",
       "\t<dt>$break.at.first</dt>\n",
       "\t\t<dd>FALSE</dd>\n",
       "\t<dt>$break.at.value</dt>\n",
       "\t\t<dd>1e+30</dd>\n",
       "\t<dt>$epsilon</dt>\n",
       "\t\t<dd><dl class=dl-horizontal>\n",
       "\t<dt>epsb</dt>\n",
       "\t\t<dd>1e-10</dd>\n",
       "\t<dt>epsd</dt>\n",
       "\t\t<dd>1e-09</dd>\n",
       "\t<dt>epsel</dt>\n",
       "\t\t<dd>1e-12</dd>\n",
       "\t<dt>epsint</dt>\n",
       "\t\t<dd>1e-07</dd>\n",
       "\t<dt>epsperturb</dt>\n",
       "\t\t<dd>1e-05</dd>\n",
       "\t<dt>epspivot</dt>\n",
       "\t\t<dd>2e-07</dd>\n",
       "</dl>\n",
       "</dd>\n",
       "\t<dt>$improve</dt>\n",
       "\t\t<dd><ol class=list-inline>\n",
       "\t<li>'dualfeas'</li>\n",
       "\t<li>'thetagap'</li>\n",
       "</ol>\n",
       "</dd>\n",
       "\t<dt>$infinite</dt>\n",
       "\t\t<dd>1e+30</dd>\n",
       "\t<dt>$maxpivot</dt>\n",
       "\t\t<dd>250</dd>\n",
       "\t<dt>$mip.gap</dt>\n",
       "\t\t<dd><dl class=dl-horizontal>\n",
       "\t<dt>absolute</dt>\n",
       "\t\t<dd>1e-11</dd>\n",
       "\t<dt>relative</dt>\n",
       "\t\t<dd>1e-11</dd>\n",
       "</dl>\n",
       "</dd>\n",
       "\t<dt>$negrange</dt>\n",
       "\t\t<dd>-1e+06</dd>\n",
       "\t<dt>$obj.in.basis</dt>\n",
       "\t\t<dd>TRUE</dd>\n",
       "\t<dt>$pivoting</dt>\n",
       "\t\t<dd><ol class=list-inline>\n",
       "\t<li>'devex'</li>\n",
       "\t<li>'adaptive'</li>\n",
       "</ol>\n",
       "</dd>\n",
       "\t<dt>$presolve</dt>\n",
       "\t\t<dd>'none'</dd>\n",
       "\t<dt>$scalelimit</dt>\n",
       "\t\t<dd>5</dd>\n",
       "\t<dt>$scaling</dt>\n",
       "\t\t<dd><ol class=list-inline>\n",
       "\t<li>'geometric'</li>\n",
       "\t<li>'equilibrate'</li>\n",
       "\t<li>'integers'</li>\n",
       "</ol>\n",
       "</dd>\n",
       "\t<dt>$sense</dt>\n",
       "\t\t<dd>'maximize'</dd>\n",
       "\t<dt>$simplextype</dt>\n",
       "\t\t<dd><ol class=list-inline>\n",
       "\t<li>'dual'</li>\n",
       "\t<li>'primal'</li>\n",
       "</ol>\n",
       "</dd>\n",
       "\t<dt>$timeout</dt>\n",
       "\t\t<dd>0</dd>\n",
       "\t<dt>$verbose</dt>\n",
       "\t\t<dd>'neutral'</dd>\n",
       "</dl>\n"
      ],
      "text/latex": [
       "\\begin{description}\n",
       "\\item[\\$anti.degen] \\begin{enumerate*}\n",
       "\\item 'fixedvars'\n",
       "\\item 'stalling'\n",
       "\\end{enumerate*}\n",
       "\n",
       "\\item[\\$basis.crash] 'none'\n",
       "\\item[\\$bb.depthlimit] -50\n",
       "\\item[\\$bb.floorfirst] 'automatic'\n",
       "\\item[\\$bb.rule] \\begin{enumerate*}\n",
       "\\item 'pseudononint'\n",
       "\\item 'greedy'\n",
       "\\item 'dynamic'\n",
       "\\item 'rcostfixing'\n",
       "\\end{enumerate*}\n",
       "\n",
       "\\item[\\$break.at.first] FALSE\n",
       "\\item[\\$break.at.value] 1e+30\n",
       "\\item[\\$epsilon] \\begin{description*}\n",
       "\\item[epsb] 1e-10\n",
       "\\item[epsd] 1e-09\n",
       "\\item[epsel] 1e-12\n",
       "\\item[epsint] 1e-07\n",
       "\\item[epsperturb] 1e-05\n",
       "\\item[epspivot] 2e-07\n",
       "\\end{description*}\n",
       "\n",
       "\\item[\\$improve] \\begin{enumerate*}\n",
       "\\item 'dualfeas'\n",
       "\\item 'thetagap'\n",
       "\\end{enumerate*}\n",
       "\n",
       "\\item[\\$infinite] 1e+30\n",
       "\\item[\\$maxpivot] 250\n",
       "\\item[\\$mip.gap] \\begin{description*}\n",
       "\\item[absolute] 1e-11\n",
       "\\item[relative] 1e-11\n",
       "\\end{description*}\n",
       "\n",
       "\\item[\\$negrange] -1e+06\n",
       "\\item[\\$obj.in.basis] TRUE\n",
       "\\item[\\$pivoting] \\begin{enumerate*}\n",
       "\\item 'devex'\n",
       "\\item 'adaptive'\n",
       "\\end{enumerate*}\n",
       "\n",
       "\\item[\\$presolve] 'none'\n",
       "\\item[\\$scalelimit] 5\n",
       "\\item[\\$scaling] \\begin{enumerate*}\n",
       "\\item 'geometric'\n",
       "\\item 'equilibrate'\n",
       "\\item 'integers'\n",
       "\\end{enumerate*}\n",
       "\n",
       "\\item[\\$sense] 'maximize'\n",
       "\\item[\\$simplextype] \\begin{enumerate*}\n",
       "\\item 'dual'\n",
       "\\item 'primal'\n",
       "\\end{enumerate*}\n",
       "\n",
       "\\item[\\$timeout] 0\n",
       "\\item[\\$verbose] 'neutral'\n",
       "\\end{description}\n"
      ],
      "text/markdown": [
       "$anti.degen\n",
       ":   1. 'fixedvars'\n",
       "2. 'stalling'\n",
       "\n",
       "\n",
       "\n",
       "$basis.crash\n",
       ":   'none'\n",
       "$bb.depthlimit\n",
       ":   -50\n",
       "$bb.floorfirst\n",
       ":   'automatic'\n",
       "$bb.rule\n",
       ":   1. 'pseudononint'\n",
       "2. 'greedy'\n",
       "3. 'dynamic'\n",
       "4. 'rcostfixing'\n",
       "\n",
       "\n",
       "\n",
       "$break.at.first\n",
       ":   FALSE\n",
       "$break.at.value\n",
       ":   1e+30\n",
       "$epsilon\n",
       ":   epsb\n",
       ":   1e-10epsd\n",
       ":   1e-09epsel\n",
       ":   1e-12epsint\n",
       ":   1e-07epsperturb\n",
       ":   1e-05epspivot\n",
       ":   2e-07\n",
       "\n",
       "\n",
       "$improve\n",
       ":   1. 'dualfeas'\n",
       "2. 'thetagap'\n",
       "\n",
       "\n",
       "\n",
       "$infinite\n",
       ":   1e+30\n",
       "$maxpivot\n",
       ":   250\n",
       "$mip.gap\n",
       ":   absolute\n",
       ":   1e-11relative\n",
       ":   1e-11\n",
       "\n",
       "\n",
       "$negrange\n",
       ":   -1e+06\n",
       "$obj.in.basis\n",
       ":   TRUE\n",
       "$pivoting\n",
       ":   1. 'devex'\n",
       "2. 'adaptive'\n",
       "\n",
       "\n",
       "\n",
       "$presolve\n",
       ":   'none'\n",
       "$scalelimit\n",
       ":   5\n",
       "$scaling\n",
       ":   1. 'geometric'\n",
       "2. 'equilibrate'\n",
       "3. 'integers'\n",
       "\n",
       "\n",
       "\n",
       "$sense\n",
       ":   'maximize'\n",
       "$simplextype\n",
       ":   1. 'dual'\n",
       "2. 'primal'\n",
       "\n",
       "\n",
       "\n",
       "$timeout\n",
       ":   0\n",
       "$verbose\n",
       ":   'neutral'\n",
       "\n",
       "\n"
      ],
      "text/plain": [
       "$anti.degen\n",
       "[1] \"fixedvars\" \"stalling\" \n",
       "\n",
       "$basis.crash\n",
       "[1] \"none\"\n",
       "\n",
       "$bb.depthlimit\n",
       "[1] -50\n",
       "\n",
       "$bb.floorfirst\n",
       "[1] \"automatic\"\n",
       "\n",
       "$bb.rule\n",
       "[1] \"pseudononint\" \"greedy\"       \"dynamic\"      \"rcostfixing\" \n",
       "\n",
       "$break.at.first\n",
       "[1] FALSE\n",
       "\n",
       "$break.at.value\n",
       "[1] 1e+30\n",
       "\n",
       "$epsilon\n",
       "      epsb       epsd      epsel     epsint epsperturb   epspivot \n",
       "     1e-10      1e-09      1e-12      1e-07      1e-05      2e-07 \n",
       "\n",
       "$improve\n",
       "[1] \"dualfeas\" \"thetagap\"\n",
       "\n",
       "$infinite\n",
       "[1] 1e+30\n",
       "\n",
       "$maxpivot\n",
       "[1] 250\n",
       "\n",
       "$mip.gap\n",
       "absolute relative \n",
       "   1e-11    1e-11 \n",
       "\n",
       "$negrange\n",
       "[1] -1e+06\n",
       "\n",
       "$obj.in.basis\n",
       "[1] TRUE\n",
       "\n",
       "$pivoting\n",
       "[1] \"devex\"    \"adaptive\"\n",
       "\n",
       "$presolve\n",
       "[1] \"none\"\n",
       "\n",
       "$scalelimit\n",
       "[1] 5\n",
       "\n",
       "$scaling\n",
       "[1] \"geometric\"   \"equilibrate\" \"integers\"   \n",
       "\n",
       "$sense\n",
       "[1] \"maximize\"\n",
       "\n",
       "$simplextype\n",
       "[1] \"dual\"   \"primal\"\n",
       "\n",
       "$timeout\n",
       "[1] 0\n",
       "\n",
       "$verbose\n",
       "[1] \"neutral\"\n"
      ]
     },
     "metadata": {},
     "output_type": "display_data"
    }
   ],
   "source": [
    "lp.control(model, sense = \"max\")\n",
    "set.type(model, c(1, 2), type = \"integer\")"
   ]
  },
  {
   "cell_type": "markdown",
   "metadata": {},
   "source": [
    "6) To add an objective function to your model, pass a vector of coefficiencs (one coefficient for one decision variable). For this reason, read profit values from data variable (read in step 2). You can use matrix slices in R. For example if you want to choose second row and columns 2-5 from matrix X you can use the following slice X[2,2:5]. After choosing proper coefficients, use set.objfn function to set them as objective in your model."
   ]
  },
  {
   "cell_type": "code",
   "execution_count": 6,
   "metadata": {},
   "outputs": [
    {
     "data": {
      "text/html": [
       "<table>\n",
       "<caption>A data.frame: 1 × 2</caption>\n",
       "<thead>\n",
       "\t<tr><th scope=col>scientific</th><th scope=col>graphic</th></tr>\n",
       "\t<tr><th scope=col>&lt;int&gt;</th><th scope=col>&lt;int&gt;</th></tr>\n",
       "</thead>\n",
       "<tbody>\n",
       "\t<tr><td>-2</td><td>5</td></tr>\n",
       "</tbody>\n",
       "</table>\n"
      ],
      "text/latex": [
       "A data.frame: 1 × 2\n",
       "\\begin{tabular}{r|ll}\n",
       " scientific & graphic\\\\\n",
       " <int> & <int>\\\\\n",
       "\\hline\n",
       "\t -2 & 5\\\\\n",
       "\\end{tabular}\n"
      ],
      "text/markdown": [
       "\n",
       "A data.frame: 1 × 2\n",
       "\n",
       "| scientific &lt;int&gt; | graphic &lt;int&gt; |\n",
       "|---|---|\n",
       "| -2 | 5 |\n",
       "\n"
      ],
      "text/plain": [
       "  scientific graphic\n",
       "1 -2         5      "
      ]
     },
     "metadata": {},
     "output_type": "display_data"
    }
   ],
   "source": [
    "objective_coeffs <- data[1, c(2,3)]\n",
    "objective_coeffs\n",
    "set.objfn(model, objective_coeffs)"
   ]
  },
  {
   "cell_type": "markdown",
   "metadata": {},
   "source": [
    "7) Add model constraints. Use again data variable to get minimal demand and maximal production for each type of calculator. *Remember to add an additional constraint imposing a minimal number of calculators to at least 200.*\n",
    "\n",
    "To set constraints, use add.constraint function passing your model, constraint coefficients (if some of variables are not present in a given costraint, set coefficient for this variable to 0), constraint type (\"<=\", \">=\" or \"=\") and rhs."
   ]
  },
  {
   "cell_type": "code",
   "execution_count": 7,
   "metadata": {},
   "outputs": [],
   "source": [
    "constraint_coeffs <- c(1, 0)\n",
    "add.constraint(model, constraint_coeffs, type = \">=\", rhs = data[2, 2]) #minimal number of scientific\n",
    "add.constraint(model, constraint_coeffs, type = \"<=\", rhs = data[3, 2]) #maximal number of scientific\n",
    "\n",
    "constraint_coeffs <- c(0, 1)\n",
    "add.constraint(model, constraint_coeffs, type = \">=\", rhs = data[2, 3]) #minimal number of graphic\n",
    "add.constraint(model, constraint_coeffs, type = \"<=\", rhs = data[3, 3]) #maximal number of graphic\n",
    "\n",
    "constraint_coeffs <- array(1, dim = 2)\n",
    "add.constraint(model, constraint_coeffs, type = \">=\", rhs = 200 ) #minimal total number of calculators"
   ]
  },
  {
   "cell_type": "markdown",
   "metadata": {},
   "source": [
    "8) Run the solver. Use solve function"
   ]
  },
  {
   "cell_type": "code",
   "execution_count": 8,
   "metadata": {},
   "outputs": [
    {
     "data": {
      "text/html": [
       "0"
      ],
      "text/latex": [
       "0"
      ],
      "text/markdown": [
       "0"
      ],
      "text/plain": [
       "[1] 0"
      ]
     },
     "metadata": {},
     "output_type": "display_data"
    }
   ],
   "source": [
    "solve(model)"
   ]
  },
  {
   "cell_type": "markdown",
   "metadata": {},
   "source": [
    "9) Display maximal profit and number of calculators wchich have to be produced to maximize the profit. Use get.objective and get.variables functions."
   ]
  },
  {
   "cell_type": "code",
   "execution_count": 9,
   "metadata": {},
   "outputs": [
    {
     "data": {
      "text/html": [
       "650"
      ],
      "text/latex": [
       "650"
      ],
      "text/markdown": [
       "650"
      ],
      "text/plain": [
       "[1] 650"
      ]
     },
     "metadata": {},
     "output_type": "display_data"
    },
    {
     "data": {
      "text/html": [
       "<ol class=list-inline>\n",
       "\t<li>100</li>\n",
       "\t<li>170</li>\n",
       "</ol>\n"
      ],
      "text/latex": [
       "\\begin{enumerate*}\n",
       "\\item 100\n",
       "\\item 170\n",
       "\\end{enumerate*}\n"
      ],
      "text/markdown": [
       "1. 100\n",
       "2. 170\n",
       "\n",
       "\n"
      ],
      "text/plain": [
       "[1] 100 170"
      ]
     },
     "metadata": {},
     "output_type": "display_data"
    }
   ],
   "source": [
    "get.objective(model)\n",
    "get.variables(model)"
   ]
  }
 ],
 "metadata": {
  "kernelspec": {
   "display_name": "R",
   "language": "R",
   "name": "ir"
  },
  "language_info": {
   "codemirror_mode": "r",
   "file_extension": ".r",
   "mimetype": "text/x-r-source",
   "name": "R",
   "pygments_lexer": "r",
   "version": "3.4.4"
  }
 },
 "nbformat": 4,
 "nbformat_minor": 2
}
